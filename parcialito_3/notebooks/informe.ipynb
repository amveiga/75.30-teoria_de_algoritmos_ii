{
 "cells": [
  {
   "cell_type": "markdown",
   "metadata": {},
   "source": [
    "# Teoría de Algoritmos II (75.30)\n",
    "---\n",
    "**3.er Parcialito Domiciliario – 13/06/2022 - Fecha de Entrega: 15/07/2022**\n",
    "\n",
    "*Aclaraciones*: Cada ejercicio dice al final del mismo la cantidad de puntos que otorga por hacerse completamente bien (en total, 10). Se deben obtener al menos 5 puntos para aprobar, y se deben aprobar al menos 3 de los parcialitos para aprobar/regularizar la cursada. Para la fecha de entregar, enviar un mail a mbuchwald@fi.uba.ar con un pdf con la resolución, con nombre P3 - PADRON.pdf. Pueden incluir todo el material adicional que les parezca relevante (desde código hasta gráficos)."
   ]
  },
  {
   "cell_type": "markdown",
   "metadata": {},
   "source": [
    "---"
   ]
  },
  {
   "cell_type": "markdown",
   "metadata": {},
   "source": [
    "1. Se quiere convocar a una elección a la que se presentan 4 candidatos (A, B, C y D). Hay 3 votantes del jurado que tienen sus siguientes rankings individuales:\n",
    "   \n",
    "    - Jurado 1: $B \\succ C \\succ D \\succ A$\n",
    "    - Jurado 2: $C \\succ D \\succ A \\succ B$\n",
    "    - Jurado 3: $D \\succ A \\succ B \\succ C$\n",
    "\n",
    "    a. ¿Quién ganaría por eliminación iterativa?\n",
    "    \n",
    "    b. ¿Quién ganaría por Borda rule?\n",
    "    \n",
    "    c. Suponé que estás a cargo de definir las reglas/formato de la votación, y sos un miembro corrupto que desea que si o si gane la alternativa A (te asegura favores si  logra ganar la elección). Definir (si existe) un sistema de votación en el cual A resulte ganador de la elección. En caso de no existir, explicar por qué. ¿Cuál propiedad deseable de los sistemas de votación no se está cumpliendo si, efectivamente, ganara A?\n",
    "\n",
    "**[1 Punto]**"
   ]
  },
  {
   "cell_type": "markdown",
   "metadata": {},
   "source": [
    "a. Por eliminación iterativa habría un empate entre los concursantes $B,C,D$ \n",
    "\n",
    "b. Por Borda rule ganaría el candidato D.  \n",
    "\n",
    "|              | A | B | C | D |\n",
    "|--------------|---|---|---|---|\n",
    "|Jurado 1      | 0 | 3 | 2 | 1 |\n",
    "|Jurado 2      | 1 | 0 | 3 | 2 |\n",
    "|Jurado 3      | 2 | 1 | 0 | 3 |\n",
    "|Puntos totales| 3 | 4 | 5 | 6 |\n",
    "\n",
    "c. Una alternativa para que gane A, suponiendo que sabemos el ranking de cada jurado, podría ser una votación por eliminaciones succesivas en orden D,C,B,A. Aunque todos prefieran a D antes que a A ganaría A, esto quiere decir que A es Pareto-Dominado por D. No se estaría cumpliendo la propiedad de ser Pareto-Eficiente, dado que aunque todos los agentes están de acuerdo en el orden realitvo de preferencias de dos alternativas ($D \\succ A$), el sistema de votación no elige en el mimso orden.\n",
    "\n",
    "Por eliminaciones succesivas en orden D,C,B,A ganaría el candidato A:\n",
    "\n",
    "1. D vs. C -> gana C\n",
    "2. C vs. B -> gana B\n",
    "3. B vs. A -> gana A\n",
    "\n",
    "*Paradoja*: Todos los jurados prefieren a D antes que a A, sin embargo con este sistema de votación sale favorecido el candidato A."
   ]
  },
  {
   "cell_type": "markdown",
   "metadata": {},
   "source": [
    "---"
   ]
  },
  {
   "cell_type": "markdown",
   "metadata": {},
   "source": [
    "2. Considerando el modelo de cascadas de información visto en clase, supongamos que hay una nueva tecnología que los individuos pueden optar por aceptar o rechazar. Supongamos que cada uno que acepta la tecnología recibe una ganancia positiva o negativa (sin conocerla a priori). Estos valores son aleatorios para cada nodo, y si la tecnología es “Buena”, entonces el promedio será positivo, y si la tecnología es “Mala” el promedio será negativo (esta información es conocida por los individuos). Quienes rechacen la tecnología reciben ganancia 0. En este modelo, cuando a un individuo le toca elegir si acepta o rechaza la nueva tecnología, recibe la información de las ganancias de todos los que vinieron antes.\n",
    "\n",
    "    a. Supongamos que esta nueva tecnología es, en realidad, “Mala”. ¿Cómo afecta esta nueva información (qué ganancia tuvo cada uno de los que vinieron antes) a la potencial formación de una cascada para que persista la nueva tecnología? (No es necesario dar una demostración, simplemente argumentar) \n",
    "    \n",
    "    b. Supongamos que esta nueva tecnología es, en realidad, “Buena”. ¿Puede surgir una cascada de rechazo de esta nueva tecnología?\n",
    "\n",
    "**[2 Puntos]**"
   ]
  },
  {
   "cell_type": "markdown",
   "metadata": {},
   "source": [
    "a.  Los primeros que adopten la nueva tecnología serían los únicos en elegir a ciegas, dado que no tienen/tienen muy poca información sobre el promedio, una vez que un par hayan elegido, simplemente el resto va a elegir por convenciencia. En el caso que la tecnología sea mala, es muy poco probable que se forme una cascada para que persista la nueva tecnología sabiendo el promedio de ganancias de los que eligieron antes. Simplemente habría que fijarse ese promedio y en base a eso elegir. Si la tecnología es mala, un individuo que vea que el promedio es negativo **no** le conviene aceptar esta nueva tecnología dado que se arriesgan a tener ganancia negativa cuando rechazar la tecnología da ganancia 0.\n",
    "\n",
    "b. Es posible que a los primeros que acepten la tecnología, se les asigne aleatoriamente ganancia negativa. Provocando que ninguno más se arriesgue a aceptar la nueva tecnología y opten por rechazarla sin arriesgarse."
   ]
  },
  {
   "cell_type": "markdown",
   "metadata": {},
   "source": [
    "---"
   ]
  },
  {
   "cell_type": "markdown",
   "metadata": {},
   "source": [
    "3. Considerá la siguiente red, suponiendo que todos los nodos tienen inicialmente un comportamiento B. Cada nodo puede cambiar al comportamiento A si al menos la mitad de sus vecinos tiene dicho comportamiento.\n",
    "\n",
    "    ![grafo_consigna](../media/3-consigna.png)\n",
    "\n",
    "\n",
    "    a. Supongamos que los nodos E y F son early adopters del comportamiento A. Si los demás nodos siguen la regla del umbral (threshold) para adherir a este nuevo comportamiento, ¿qué nodos implementarían el comportamiento A?\n",
    "    \n",
    "    b. Explicar a qué se debe que el comportamiento A no se propaga a través de toda la red en el escenario del punto (a). ¿Qué característica de la red lo impide? (responder a esta pregunta no apuntando a nodos particulares sino a presencias de ciertas características) ¿Dónde más tendría que haber otro early adopter de A sí o sí para que el comportamiento se propague a través de toda la red?\n",
    "\n",
    "**[3 Puntos]**"
   ]
  },
  {
   "cell_type": "markdown",
   "metadata": {},
   "source": [
    "a. Unicamente los nodos C,I y K adoptarían el nuevo comportamiento, son los únicos que al menos tienen la mitad de sus vecinos con dicho comportamiento.\n",
    "\n",
    "<p align=\"middle\">\n",
    "  <img src=\"../media/3-a1.png\" width=\"700\" />\n",
    "</p>\n",
    "\n",
    "b. Esto se debe a que el grafo del ejercicio tiene comunidades ($E,C,F,I$ y $G,D,H,J$), esto afecta a la propagación de cascadas. Como se ve en este pequeño ejemplo es muy difícil que una cascada salga de una comunidad, sin embargo dentro de la comunidad se propaga de forma más fácil. \n",
    "\n",
    "Dado que un conjunto de early adopters ($F$ y $E$) no produjeron una cascada completa, entonces exite un cluster con una densidad mayor a $1-q$, siendo $q$ el threshold. En este ejemplo existe un cluster con una densidad mayor a $0,5$. Además, hay un par de lazos debiles, que le comunican a algunos nodos de la otra comunidad que cierto comportamiento existe, pero no son lo suficiente para que lo adopten.\n",
    "\n",
    "Habría que simplemente agregar un early adopter en cualquier lugar dentro de la comunidad $G,D,H,J$\n",
    "\n",
    "<p align=\"middle\">\n",
    "  <img src=\"../media/3-b1.png\" width=\"700\" />\n",
    "  <img src=\"../media/3-b2.png\" width=\"700\" /> \n",
    "</p>\n",
    "<p align=\"middle\">\n",
    "  <img src=\"../media/3-b3.png\" width=\"700\" />\n",
    "  <img src=\"../media/3-b4.png\" width=\"700\" /> \n",
    "</p>"
   ]
  },
  {
   "cell_type": "markdown",
   "metadata": {},
   "source": [
    "---"
   ]
  },
  {
   "cell_type": "markdown",
   "metadata": {},
   "source": [
    "4. Tenemos dos grafos no dirigidos $G_1$ y $G_2$ , con la misma cantidad de vértices y aristas. $G_1$ es un grafo aleatorio de Erdös-Rényi, mientras $G_2$ es un grafo que cumple la ley de potencias en la distribución de los grados. Consideremos un virus que comienza en un único vértice aleatorio y se expande según el modelo **SIR**.\n",
    "\n",
    "    a. ¿En cuál grafo es más probable que ocurra una epidemia (i.e. se infecte al menos un 30% de la red)? Justificar brevemente la respuesta. \n",
    "\n",
    "    b. Supongamos que en vez de comenzar en un vértice aleatorio, la epidemia comenzara en el vértice de mayor grado de $G_1$ y $G_2$ , respectivamente. ¿En cuál de los grafos es más probable que ocurra una epidemia? Justificar brevemente la respuesta.\n",
    "\n",
    "    c. ¿Cómo afecta la existencia (o no existencia) de comunidades en la expansión de la epidemia?\n",
    "\n",
    "    Para responder estas preguntas, se les recomienda realizar simulaciones. Pueden agregar todo tipo de resultados obtenidos para justificar sus respuestas.\n",
    "\n",
    "**[3 Puntos]**"
   ]
  },
  {
   "cell_type": "markdown",
   "metadata": {},
   "source": [
    "Funciones auxiliares\n",
    "\n",
    "---"
   ]
  },
  {
   "cell_type": "code",
   "execution_count": 19,
   "metadata": {},
   "outputs": [],
   "source": [
    "def infeccion_alcanzada(iteracion, porcentaje):\n",
    "    '''\n",
    "    Condicion de corte para la iteracion de la epidemia.\n",
    "    En el caso que la iteración halla alcanzado el porcentaje de infeccion\n",
    "    indicado, se retorna True.\n",
    "    '''\n",
    "    total_nodes = iteracion[\"node_count\"][0]+iteracion[\"node_count\"][1]+iteracion[\"node_count\"][2]\n",
    "    return (iteracion[\"node_count\"][1]+iteracion[\"node_count\"][2])/total_nodes >= (porcentaje/100)"
   ]
  },
  {
   "cell_type": "code",
   "execution_count": 20,
   "metadata": {},
   "outputs": [],
   "source": [
    "import networkx as nx\n",
    "import sys\n",
    "sys.path.append('../')\n",
    "from social_networks_utils.metricas import grado_promedio, clustering\n",
    "from social_networks_utils.homofilia import contar_aristas"
   ]
  },
  {
   "cell_type": "code",
   "execution_count": 21,
   "metadata": {},
   "outputs": [],
   "source": [
    "def graph_info_to_dict(G):\n",
    "    '''\n",
    "    Retorna un diccionario con la informacion \n",
    "    de las características principales del grafo G.\n",
    "    '''\n",
    "    d = {}\n",
    "    d['Diametro'] = nx.diameter(G)\n",
    "    d['Grado Promedio'] = grado_promedio(G)\n",
    "    d['Coeficiente de clustering'] = clustering(G)[1]\n",
    "    d['Cantidad de aristas'] = contar_aristas(G)\n",
    "    return d"
   ]
  },
  {
   "cell_type": "code",
   "execution_count": 22,
   "metadata": {},
   "outputs": [],
   "source": [
    "import numpy as np\n",
    "import matplotlib.pyplot as plt"
   ]
  },
  {
   "cell_type": "code",
   "execution_count": 23,
   "metadata": {},
   "outputs": [],
   "source": [
    "def graficar_histogramas_de_grados(g1,g2):\n",
    "    '''\n",
    "    Grafica los histogramas de los grados de los grafos g1 y g2.\n",
    "    '''\n",
    "    G = g1\n",
    "\n",
    "    degree_sequence = sorted((d for n, d in G.degree()), reverse=True)\n",
    "    dmax = max(degree_sequence)\n",
    "\n",
    "    fig = plt.figure(\"Degree of a random graph\", figsize=(8, 8))\n",
    "    # Create a gridspec for adding subplots of different sizes\n",
    "    axgrid = fig.add_gridspec(6, 6)\n",
    "\n",
    "    ax1 = fig.add_subplot(axgrid[:3, :])\n",
    "    ax1.bar(*np.unique(degree_sequence, return_counts=True))\n",
    "    ax1.set_title(\"Histograma de grados Preferential Attachment\")\n",
    "    ax1.set_xlabel(\"Degree\")\n",
    "    ax1.set_ylabel(\"# of Nodes\")\n",
    "\n",
    "    G = g2\n",
    "\n",
    "    degree_sequence = sorted((d for n, d in G.degree()), reverse=True)\n",
    "    dmax = max(degree_sequence)\n",
    "\n",
    "    ax2 = fig.add_subplot(axgrid[3:, :])\n",
    "    ax2.bar(*np.unique(degree_sequence, return_counts=True))\n",
    "    ax2.set_title(\"Histograma de grados Erdös-Rényi\")\n",
    "    ax2.set_xlabel(\"Degree\")\n",
    "    ax2.set_ylabel(\"# of Nodes\")\n",
    "\n",
    "    fig.tight_layout()\n",
    "    plt.show()"
   ]
  },
  {
   "cell_type": "markdown",
   "metadata": {},
   "source": [
    "---"
   ]
  },
  {
   "cell_type": "code",
   "execution_count": 24,
   "metadata": {},
   "outputs": [],
   "source": [
    "from social_networks_utils.modelos import preferential_attachment, erdos_renyi"
   ]
  },
  {
   "cell_type": "markdown",
   "metadata": {},
   "source": [
    "Primero creamos ambos grafos con cantidad similar de vertices y aristas"
   ]
  },
  {
   "cell_type": "code",
   "execution_count": 25,
   "metadata": {},
   "outputs": [],
   "source": [
    "g1 = preferential_attachment(False, 2.5, 2000, 10)"
   ]
  },
  {
   "cell_type": "code",
   "execution_count": 26,
   "metadata": {},
   "outputs": [
    {
     "data": {
      "text/plain": [
       "(26492, 2000)"
      ]
     },
     "execution_count": 26,
     "metadata": {},
     "output_type": "execute_result"
    }
   ],
   "source": [
    "len(g1.edges()), len(g1.nodes())"
   ]
  },
  {
   "cell_type": "code",
   "execution_count": 35,
   "metadata": {},
   "outputs": [],
   "source": [
    "g2 = erdos_renyi(2000, grado_promedio(g1))"
   ]
  },
  {
   "cell_type": "code",
   "execution_count": 36,
   "metadata": {},
   "outputs": [
    {
     "data": {
      "text/plain": [
       "(26522, 2000)"
      ]
     },
     "execution_count": 36,
     "metadata": {},
     "output_type": "execute_result"
    }
   ],
   "source": [
    "len(g2.edges()), len(g2.nodes())"
   ]
  },
  {
   "cell_type": "code",
   "execution_count": null,
   "metadata": {},
   "outputs": [],
   "source": [
    "import ndlib.models.epidemics as ep\n",
    "import ndlib.models.ModelConfig as mc"
   ]
  },
  {
   "cell_type": "code",
   "execution_count": null,
   "metadata": {},
   "outputs": [],
   "source": [
    "model1 = ep.SIRModel(g1)\n",
    "model2 = ep.SIRModel(g2)\n",
    "# Model Configuration\n",
    "# Datos obtenidos a parir del ejemplo de la documentación\n",
    "cfg = mc.Configuration()\n",
    "cfg.add_model_parameter('beta', 0.01)\n",
    "cfg.add_model_parameter('gamma', 0.005)\n",
    "cfg.add_model_parameter(\"fraction_infected\", 0.05)\n",
    "\n",
    "# Inicialiazamos los modelos con la configuracion que queremos\n",
    "model1.set_initial_status(cfg)\n",
    "model2.set_initial_status(cfg)"
   ]
  },
  {
   "cell_type": "code",
   "execution_count": null,
   "metadata": {},
   "outputs": [],
   "source": [
    "veces_infeccion_alcanzada = {}"
   ]
  },
  {
   "cell_type": "code",
   "execution_count": null,
   "metadata": {},
   "outputs": [],
   "source": [
    "\n",
    "model1.set_initial_status(cfg)\n",
    "model2.set_initial_status(cfg)\n",
    "\n",
    "for _ in range(4000):\n",
    "    model1.reset()\n",
    "    model2.reset()\n",
    "    \n",
    "    iteracion1 = model1.iteration()\n",
    "    iteracion2 = model2.iteration()\n",
    "    \n",
    "    while((not infeccion_alcanzada(iteracion1, 30) and not infeccion_alcanzada(iteracion2, 30))):\n",
    "        iteracion1 = model1.iteration()\n",
    "        iteracion2 = model2.iteration()\n",
    "    \n",
    "    if(infeccion_alcanzada(iteracion1, 30)):\n",
    "        veces_infeccion_alcanzada[\"model1\"] = veces_infeccion_alcanzada.get(\"model1\", 0) + 1\n",
    "    if(infeccion_alcanzada(iteracion2, 30)):\n",
    "        veces_infeccion_alcanzada[\"model2\"] = veces_infeccion_alcanzada.get(\"model2\", 0) + 1\n"
   ]
  },
  {
   "cell_type": "code",
   "execution_count": null,
   "metadata": {},
   "outputs": [
    {
     "data": {
      "text/plain": [
       "{'model2': 2914, 'model1': 3042}"
      ]
     },
     "metadata": {},
     "output_type": "display_data"
    }
   ],
   "source": [
    "veces_infeccion_alcanzada"
   ]
  },
  {
   "cell_type": "code",
   "execution_count": null,
   "metadata": {},
   "outputs": [],
   "source": [
    "import pandas as pd"
   ]
  },
  {
   "cell_type": "code",
   "execution_count": null,
   "metadata": {},
   "outputs": [
    {
     "data": {
      "text/html": [
       "<div>\n",
       "<style scoped>\n",
       "    .dataframe tbody tr th:only-of-type {\n",
       "        vertical-align: middle;\n",
       "    }\n",
       "\n",
       "    .dataframe tbody tr th {\n",
       "        vertical-align: top;\n",
       "    }\n",
       "\n",
       "    .dataframe thead th {\n",
       "        text-align: right;\n",
       "    }\n",
       "</style>\n",
       "<table border=\"1\" class=\"dataframe\">\n",
       "  <thead>\n",
       "    <tr style=\"text-align: right;\">\n",
       "      <th></th>\n",
       "      <th>Preferential Attachment</th>\n",
       "      <th>Erdös-Rényi</th>\n",
       "    </tr>\n",
       "  </thead>\n",
       "  <tbody>\n",
       "    <tr>\n",
       "      <th>Diametro</th>\n",
       "      <td>4.000000</td>\n",
       "      <td>4.000000</td>\n",
       "    </tr>\n",
       "    <tr>\n",
       "      <th>Grado Promedio</th>\n",
       "      <td>26.402000</td>\n",
       "      <td>26.337000</td>\n",
       "    </tr>\n",
       "    <tr>\n",
       "      <th>Coeficiente de clustering</th>\n",
       "      <td>0.012666</td>\n",
       "      <td>0.013623</td>\n",
       "    </tr>\n",
       "    <tr>\n",
       "      <th>Cantidad de aristas</th>\n",
       "      <td>26402.000000</td>\n",
       "      <td>26337.000000</td>\n",
       "    </tr>\n",
       "  </tbody>\n",
       "</table>\n",
       "</div>"
      ],
      "text/plain": [
       "                           Preferential Attachment   Erdös-Rényi\n",
       "Diametro                                  4.000000      4.000000\n",
       "Grado Promedio                           26.402000     26.337000\n",
       "Coeficiente de clustering                 0.012666      0.013623\n",
       "Cantidad de aristas                   26402.000000  26337.000000"
      ]
     },
     "metadata": {},
     "output_type": "display_data"
    }
   ],
   "source": [
    "df = pd.DataFrame([graph_info_to_dict(g1), graph_info_to_dict(g2)]).T\n",
    "columns = ['Preferential Attachment','Erdös-Rényi']\n",
    "df.columns = columns\n",
    "df"
   ]
  },
  {
   "cell_type": "markdown",
   "metadata": {},
   "source": [
    "a. Luego de hacer 4000 simulaciones en las cuales las iteraciones cortaban en el caso que al menos en un grafo haya ocurrido una epidemia ()\n",
    "podemos ver que se logra que ocurra una epidemia de forma muy similar en ambos grafos. En el modelo que cumple con la ley de potencias ocurrio 3042 veces y en el de Erdös-Rényi ocurrio 2914 veces.\n",
    "\n",
    "Además comparando las características principales (diametro, grado promedio, coeficiente de clustering) de los grafos podemos ver que son semejantes. Las características que considero mas importantes para que la epidemia ocurra son los bajos coeficientes de clustering (en una red real tienden a ser más altos) y el bajo diametro (caracteristica similar a las redes reales).\n",
    "\n",
    "En conclusión la probabilidad que se genere una epidemia es similar y muy alta para estos tipos de redes."
   ]
  },
  {
   "cell_type": "markdown",
   "metadata": {},
   "source": [
    "b. En el caso que se comience en el vértice de mayor grado, el grafo que cumple con la ley de potencias va a ser el que más probabilidades tenga de ocurrir una epidemia. Esto se debe a que las leyes de potencia aparecen de la ventaja acumulativa, esto quiere decir que en el grafo se va a generar nodos con grados muy altos y nodos con muy grados bajos. Tiene un balance desproporcionado. (\"Los ricos se hacen mas ricos\")\n",
    "\n",
    "Entonces es más probable el nodo de mayor grado se genere en el grafo que cumple con la ley de potencias y no en el Erdös-Rényi. Mientras mayor sea el grado del nodo, mayor alcance a otros nodos, generando una probabilidad que ocurra una epidemia más alta."
   ]
  },
  {
   "cell_type": "code",
   "execution_count": 37,
   "metadata": {},
   "outputs": [
    {
     "data": {
      "image/png": "[encoded data removed]",
      "text/plain": [
       "<Figure size 576x576 with 2 Axes>"
      ]
     },
     "metadata": {
      "needs_background": "light"
     },
     "output_type": "display_data"
    }
   ],
   "source": [
    "graficar_histogramas_de_grados(g1,g2)"
   ]
  },
  {
   "cell_type": "markdown",
   "metadata": {},
   "source": [
    "Como vemos en los histogramas, hay un par de nodos del preferential attachment que tienen un grado mayor a 50. Mientras que el maximo grado del de Erdos-Renyi es de 50."
   ]
  },
  {
   "cell_type": "markdown",
   "metadata": {},
   "source": [
    "c. La existencia de comunidades no ayuda a la expansion de una epidemia, dado que se generan lazos débiles entre ellas. Si dos nodos conectan dos comunidades a través de un lazo debil y el infectado no logra contagiar al nodo de la otra comunidad, ninguno dentro de la comunidad 'sana' va a poder contagiarse."
   ]
  },
  {
   "cell_type": "markdown",
   "metadata": {},
   "source": [
    "---"
   ]
  },
  {
   "cell_type": "markdown",
   "metadata": {},
   "source": [
    "5. Aplicar el Algoritmo REV2 al siguiente set de datos de reviews de productos de Amazon, para detectar potenciales usuarios maliciosos y otros ciertamente honestos. Por simplificación (y unificación de criterios), considerar $γ_1 = γ_2 = 0.5$. Obtener aquellos usuarios cuya justicia (fairness) es menor o igual a 0.2 (son maliciosos) y tienen al menos 5 reviews, así como la proporción de nodos que son extremadamente justos: aquellos con justicia mayor o igual a 0.9, y con al\n",
    "menos 10 reviews (aristas de salida). \n",
    "\n",
    "**[2 Puntos]**"
   ]
  },
  {
   "cell_type": "code",
   "execution_count": 1,
   "metadata": {},
   "outputs": [],
   "source": [
    "import pandas as pd\n",
    "import numpy as np"
   ]
  },
  {
   "cell_type": "code",
   "execution_count": 2,
   "metadata": {},
   "outputs": [],
   "source": [
    "reviews_df = pd.read_csv('../data/ratings_Electronics.csv')"
   ]
  },
  {
   "cell_type": "code",
   "execution_count": 3,
   "metadata": {},
   "outputs": [
    {
     "data": {
      "text/html": [
       "<div>\n",
       "<style scoped>\n",
       "    .dataframe tbody tr th:only-of-type {\n",
       "        vertical-align: middle;\n",
       "    }\n",
       "\n",
       "    .dataframe tbody tr th {\n",
       "        vertical-align: top;\n",
       "    }\n",
       "\n",
       "    .dataframe thead th {\n",
       "        text-align: right;\n",
       "    }\n",
       "</style>\n",
       "<table border=\"1\" class=\"dataframe\">\n",
       "  <thead>\n",
       "    <tr style=\"text-align: right;\">\n",
       "      <th></th>\n",
       "      <th>User ID</th>\n",
       "      <th>Product ID</th>\n",
       "      <th>Rating</th>\n",
       "      <th>Time Stamp</th>\n",
       "    </tr>\n",
       "  </thead>\n",
       "  <tbody>\n",
       "    <tr>\n",
       "      <th>0</th>\n",
       "      <td>AKM1MP6P0OYPR</td>\n",
       "      <td>0132793040</td>\n",
       "      <td>5.0</td>\n",
       "      <td>1365811200</td>\n",
       "    </tr>\n",
       "    <tr>\n",
       "      <th>1</th>\n",
       "      <td>A2CX7LUOHB2NDG</td>\n",
       "      <td>0321732944</td>\n",
       "      <td>5.0</td>\n",
       "      <td>1341100800</td>\n",
       "    </tr>\n",
       "    <tr>\n",
       "      <th>2</th>\n",
       "      <td>A2NWSAGRHCP8N5</td>\n",
       "      <td>0439886341</td>\n",
       "      <td>1.0</td>\n",
       "      <td>1367193600</td>\n",
       "    </tr>\n",
       "    <tr>\n",
       "      <th>3</th>\n",
       "      <td>A2WNBOD3WNDNKT</td>\n",
       "      <td>0439886341</td>\n",
       "      <td>3.0</td>\n",
       "      <td>1374451200</td>\n",
       "    </tr>\n",
       "    <tr>\n",
       "      <th>4</th>\n",
       "      <td>A1GI0U4ZRJA8WN</td>\n",
       "      <td>0439886341</td>\n",
       "      <td>1.0</td>\n",
       "      <td>1334707200</td>\n",
       "    </tr>\n",
       "  </tbody>\n",
       "</table>\n",
       "</div>"
      ],
      "text/plain": [
       "          User ID  Product ID  Rating  Time Stamp\n",
       "0   AKM1MP6P0OYPR  0132793040     5.0  1365811200\n",
       "1  A2CX7LUOHB2NDG  0321732944     5.0  1341100800\n",
       "2  A2NWSAGRHCP8N5  0439886341     1.0  1367193600\n",
       "3  A2WNBOD3WNDNKT  0439886341     3.0  1374451200\n",
       "4  A1GI0U4ZRJA8WN  0439886341     1.0  1334707200"
      ]
     },
     "execution_count": 3,
     "metadata": {},
     "output_type": "execute_result"
    }
   ],
   "source": [
    "reviews_df.head()"
   ]
  },
  {
   "cell_type": "code",
   "execution_count": 4,
   "metadata": {},
   "outputs": [],
   "source": [
    "reviews_df[\"Rating\"] = np.where(reviews_df[\"Rating\"] < 2.5, -1, 1)"
   ]
  },
  {
   "cell_type": "code",
   "execution_count": 5,
   "metadata": {},
   "outputs": [
    {
     "data": {
      "text/html": [
       "<div>\n",
       "<style scoped>\n",
       "    .dataframe tbody tr th:only-of-type {\n",
       "        vertical-align: middle;\n",
       "    }\n",
       "\n",
       "    .dataframe tbody tr th {\n",
       "        vertical-align: top;\n",
       "    }\n",
       "\n",
       "    .dataframe thead th {\n",
       "        text-align: right;\n",
       "    }\n",
       "</style>\n",
       "<table border=\"1\" class=\"dataframe\">\n",
       "  <thead>\n",
       "    <tr style=\"text-align: right;\">\n",
       "      <th></th>\n",
       "      <th>User ID</th>\n",
       "      <th>Product ID</th>\n",
       "      <th>Rating</th>\n",
       "      <th>Time Stamp</th>\n",
       "    </tr>\n",
       "  </thead>\n",
       "  <tbody>\n",
       "    <tr>\n",
       "      <th>0</th>\n",
       "      <td>AKM1MP6P0OYPR</td>\n",
       "      <td>0132793040</td>\n",
       "      <td>1</td>\n",
       "      <td>1365811200</td>\n",
       "    </tr>\n",
       "    <tr>\n",
       "      <th>1</th>\n",
       "      <td>A2CX7LUOHB2NDG</td>\n",
       "      <td>0321732944</td>\n",
       "      <td>1</td>\n",
       "      <td>1341100800</td>\n",
       "    </tr>\n",
       "    <tr>\n",
       "      <th>2</th>\n",
       "      <td>A2NWSAGRHCP8N5</td>\n",
       "      <td>0439886341</td>\n",
       "      <td>-1</td>\n",
       "      <td>1367193600</td>\n",
       "    </tr>\n",
       "    <tr>\n",
       "      <th>3</th>\n",
       "      <td>A2WNBOD3WNDNKT</td>\n",
       "      <td>0439886341</td>\n",
       "      <td>1</td>\n",
       "      <td>1374451200</td>\n",
       "    </tr>\n",
       "    <tr>\n",
       "      <th>4</th>\n",
       "      <td>A1GI0U4ZRJA8WN</td>\n",
       "      <td>0439886341</td>\n",
       "      <td>-1</td>\n",
       "      <td>1334707200</td>\n",
       "    </tr>\n",
       "  </tbody>\n",
       "</table>\n",
       "</div>"
      ],
      "text/plain": [
       "          User ID  Product ID  Rating  Time Stamp\n",
       "0   AKM1MP6P0OYPR  0132793040       1  1365811200\n",
       "1  A2CX7LUOHB2NDG  0321732944       1  1341100800\n",
       "2  A2NWSAGRHCP8N5  0439886341      -1  1367193600\n",
       "3  A2WNBOD3WNDNKT  0439886341       1  1374451200\n",
       "4  A1GI0U4ZRJA8WN  0439886341      -1  1334707200"
      ]
     },
     "execution_count": 5,
     "metadata": {},
     "output_type": "execute_result"
    }
   ],
   "source": [
    "reviews_df.head()"
   ]
  },
  {
   "cell_type": "code",
   "execution_count": 6,
   "metadata": {},
   "outputs": [],
   "source": [
    "import networkx as nx"
   ]
  },
  {
   "cell_type": "code",
   "execution_count": 7,
   "metadata": {},
   "outputs": [],
   "source": [
    "reviews_nx = nx.from_pandas_edgelist(reviews_df, source='User ID', target='Product ID', edge_attr='Rating',create_using=nx.DiGraph())"
   ]
  },
  {
   "cell_type": "code",
   "execution_count": 8,
   "metadata": {},
   "outputs": [],
   "source": [
    "fairness = {}\n",
    "reliability = {}\n",
    "goodness = {}"
   ]
  },
  {
   "cell_type": "code",
   "execution_count": 9,
   "metadata": {},
   "outputs": [],
   "source": [
    "y1 = 0.5\n",
    "y2 = 0.5"
   ]
  },
  {
   "cell_type": "code",
   "execution_count": 10,
   "metadata": {},
   "outputs": [],
   "source": [
    "def reliability_score(y1,y2,fairness,score,goodness):\n",
    "    return (1/(y1+y2)) * (y1*fairness + y2*(1-((abs(score-goodness))/2)))"
   ]
  },
  {
   "cell_type": "code",
   "execution_count": 11,
   "metadata": {},
   "outputs": [
    {
     "name": "stdout",
     "output_type": "stream",
     "text": [
      "Iteración:  0\n",
      "Iteración:  1\n",
      "Iteración:  2\n",
      "Iteración:  3\n",
      "Iteración:  4\n",
      "Iteración:  5\n",
      "Iteración:  6\n",
      "Iteración:  7\n",
      "Iteración:  8\n",
      "Iteración:  9\n"
     ]
    }
   ],
   "source": [
    "for i in range(10):\n",
    "    # actualizar el fairness \n",
    "    for user in reviews_nx:\n",
    "        if reviews_nx.out_degree(user) > 1: # si no tiene salidas es un producto\n",
    "            reliability_sum = 0\n",
    "            for product in reviews_nx[user].keys():\n",
    "                reliability_sum += reliability.get((user,product),1)\n",
    "            fairness[user] = reliability_sum / reviews_nx.out_degree(user)\n",
    "\n",
    "    # actualizar el goodness\n",
    "    for product in reviews_nx:\n",
    "        if reviews_nx.out_degree(product) == 0: # si no tiene salidas es un producto\n",
    "            reliability_x_score_sum = 0\n",
    "            for user,_ in reviews_nx.in_edges(product):\n",
    "                reliability_x_score_sum += reliability.get((user,product),1)*reviews_nx[user][product][\"Rating\"]\n",
    "            goodness[product] = reliability_x_score_sum/reviews_nx.in_degree(product)\n",
    "\n",
    "    # actualizar el reliability\n",
    "    for user in reviews_nx:\n",
    "        if reviews_nx.out_degree(user) > 1: # si no tiene salidas es un producto\n",
    "            for product in reviews_nx[user].keys():\n",
    "                reliability[(user,product)] = reliability_score(y1,y2,fairness[user],reviews_nx[user][product][\"Rating\"],goodness[product])\n",
    "    print(\"Iteración: \", i)"
   ]
  },
  {
   "cell_type": "code",
   "execution_count": 12,
   "metadata": {},
   "outputs": [],
   "source": [
    "usuarios_maliciosos = {}\n",
    "usuarios_justos = {}\n",
    "for user in reviews_nx:\n",
    "    if reviews_nx.out_degree(user) > 1: # si no tiene salidas es un producto\n",
    "        if fairness[user] <= 0.2 and reviews_nx.out_degree(user) > 5:\n",
    "            usuarios_maliciosos[user] = fairness[user]\n",
    "        elif fairness[user] >= 0.9 and reviews_nx.out_degree(user) > 10:\n",
    "            usuarios_justos[user] = fairness[user]          "
   ]
  },
  {
   "cell_type": "code",
   "execution_count": 13,
   "metadata": {},
   "outputs": [
    {
     "data": {
      "text/plain": [
       "{'A2L3ZOXJL8OR9G': 0.19908269520109817,\n",
       " 'A3B3L6ENHSO3DN': 0.1865228386054922,\n",
       " 'A2PEWTOJF0LT8J': 0.17943795675103957,\n",
       " 'A3TWCBY131EVQ0': 0.16305536351672925,\n",
       " 'A16PNERQT4XSN3': 0.17874461137213335,\n",
       " 'A2VWNSDCFK3OOV': 0.17887248264136432,\n",
       " 'A2F3NG6RUGZ5K2': 0.16186789894431539,\n",
       " 'A24HK9CEPMHJRV': 0.14959376955713,\n",
       " 'ARTEBG4476RHV': 0.1715880340531254,\n",
       " 'A3OJDREFH6BAFD': 0.14899753762351262,\n",
       " 'AF6JIG0PLFBLC': 0.12166692800397565,\n",
       " 'A1GNHV6L0QRZ9O': 0.1818600279699439,\n",
       " 'A28ZX0WY495DAI': 0.15846049397428713,\n",
       " 'A3ECP9FPY96ST2': 0.15933997267606545,\n",
       " 'A1WYFF9WII2SBE': 0.19604570339573854,\n",
       " 'A1CJTPH6BQERSN': 0.1938017559665863,\n",
       " 'A24BBVS0WQ8OD2': 0.1805796421478519,\n",
       " 'A122BP6MJZL20L': 0.13983055461279612,\n",
       " 'A9TWDRS2IVXRH': 0.1888637525611068,\n",
       " 'A3VNX3A8V805AL': 0.16150331356117112,\n",
       " 'A2OJM0F1A56TM6': 0.17024588196697868,\n",
       " 'A1JLNEVY9J19MU': 0.17549606044684504}"
      ]
     },
     "execution_count": 13,
     "metadata": {},
     "output_type": "execute_result"
    }
   ],
   "source": [
    "usuarios_maliciosos"
   ]
  },
  {
   "cell_type": "code",
   "execution_count": 18,
   "metadata": {},
   "outputs": [
    {
     "data": {
      "text/plain": [
       "22"
      ]
     },
     "execution_count": 18,
     "metadata": {},
     "output_type": "execute_result"
    }
   ],
   "source": [
    "len(usuarios_maliciosos)"
   ]
  },
  {
   "cell_type": "code",
   "execution_count": 14,
   "metadata": {},
   "outputs": [
    {
     "data": {
      "text/plain": [
       "0.0004703168096786069"
      ]
     },
     "execution_count": 14,
     "metadata": {},
     "output_type": "execute_result"
    }
   ],
   "source": [
    "len(usuarios_maliciosos)/len(reviews_nx.nodes())*100"
   ]
  },
  {
   "cell_type": "code",
   "execution_count": 15,
   "metadata": {},
   "outputs": [
    {
     "data": {
      "text/plain": [
       "{'A1THJB1ORM3U2I': 0.9021875949808175,\n",
       " 'A35FTKYO9UQZWF': 0.901241657768008,\n",
       " 'AQTRY3K8P7GCO': 0.9132355237573527,\n",
       " 'ASOQROO9OD3XG': 0.9181227028298952,\n",
       " 'A3V6YL38FIEDP': 0.9081760116121995,\n",
       " 'AKT8TGIT6VVZ5': 0.9193184991805302,\n",
       " 'A27BPKU7ZJ3NOO': 0.9016651334553171,\n",
       " 'A2V0SRJJJ3PD91': 0.9013408059385766,\n",
       " 'AYOIM6S23UDAH': 0.9040245477564934,\n",
       " 'AOOZR8IN9NYTA': 0.9118139938797415,\n",
       " 'A29S8I5VT9TKZA': 0.9073594426171243,\n",
       " 'A1BPJ55PLYUA77': 0.9032846204545326,\n",
       " 'A148IYQMD3J6YD': 0.9135937249837525,\n",
       " 'A12RHQPWEZWAAH': 0.9086246596110915,\n",
       " 'A1SIX968W2WNZM': 0.9027616153243123,\n",
       " 'A1R6RKKE44AYA8': 0.9088216851605071,\n",
       " 'A2FC3ME27RF1N': 0.9137163616256901,\n",
       " 'A21QQB0GM1B9BS': 0.9056754908150084,\n",
       " 'A1PYTLRARR1W0K': 0.9444559568708671,\n",
       " 'AV1B3S6ONDIWL': 0.9072056063482964,\n",
       " 'A1E9RGETV1X5LK': 0.9202916402335234,\n",
       " 'A2US3LOX0TWTHB': 0.9112326634003161,\n",
       " 'A1PZEA97302PQZ': 0.901275732909907,\n",
       " 'A31EE4G7VHLJIF': 0.9142484219382923,\n",
       " 'A2YA18JC0YGZL8': 0.9083370839720554,\n",
       " 'AUJWP901VCRQ9': 0.9209701957469858,\n",
       " 'A2BNXXJ5BJ5J7T': 0.902303986372489,\n",
       " 'A3AAUXYUCDZYZF': 0.9012973748209159,\n",
       " 'AR90ZOZ4JEW7J': 0.910052071435003,\n",
       " 'A5IM27DPBR9QI': 0.9091944144889791,\n",
       " 'A2J5W8KVS0P17T': 0.9054213723422901,\n",
       " 'A29LA15KO056BT': 0.9051324156214602,\n",
       " 'A24QBF3YX2NFG5': 0.9119582233539205,\n",
       " 'AIFGQVI9S0Z1M': 0.9089359528382616,\n",
       " 'A2LVQ945WEHZY9': 0.9056052234490716,\n",
       " 'A22SBXZICJNTQ1': 0.9122397063964791,\n",
       " 'A2LEDAVL1GFRVP': 0.9102887653351607,\n",
       " 'A3HFLZNDA3UAXI': 0.9049005702226047,\n",
       " 'A1ATG06O0O5PNE': 0.9004284755640927,\n",
       " 'A2FYE60ZWKIUW6': 0.9234096504157343,\n",
       " 'A10HSMHBTT0GWI': 0.9006706541580976,\n",
       " 'AF57QLSDZXAEX': 0.9026091010604644,\n",
       " 'A13KM5ACIA8K73': 0.913373408126681,\n",
       " 'A5BUHKHEV2XHN': 0.9042656348605665,\n",
       " 'A2DPA9K2KW1PBC': 0.9058604507125126,\n",
       " 'A3M4L6CT5XECIK': 0.9059861123965034,\n",
       " 'A2DD3R3LOZIBF0': 0.9076710815184033,\n",
       " 'A27GJW7UIKBDG6': 0.9022813668081284,\n",
       " 'A26O0ODDKCLTJA': 0.9033821995231154,\n",
       " 'ACSN9XEO8SHH4': 0.9036285092622234,\n",
       " 'A2B6156ENOSTSH': 0.9037926810263729,\n",
       " 'A3GBL2GYZDJ2VR': 0.9089424140095349,\n",
       " 'A37QTCW722Y87G': 0.9024181974201201,\n",
       " 'ASYYKISN7KHTI': 0.908009379522775,\n",
       " 'A113VWVP3X6AWH': 0.9359237117644806,\n",
       " 'A36HDODRFZPTXB': 0.9027427726901739,\n",
       " 'A3BD7XVCGN7KZV': 0.9013195645584601,\n",
       " 'A1K05BP7Y0TQ5K': 0.9130629430874986,\n",
       " 'A2YECFMBM0ZS6': 0.9074354634076355,\n",
       " 'A2JS8CVNPDOP8Z': 0.9021582603644014,\n",
       " 'ACT28LKTD3PWG': 0.9155009070406884,\n",
       " 'A270A7PDQEG1QR': 0.9011658138442405,\n",
       " 'A2BGXMV48SXMJK': 0.9102424876389295,\n",
       " 'A2KJN2YNRIMA9T': 0.9021655470783075,\n",
       " 'A2NAIDTY04FC8A': 0.9093340870100316,\n",
       " 'A3LVMQC1H8P7T1': 0.9171055123573786,\n",
       " 'A36S73HYRCQESE': 0.9067357545275224,\n",
       " 'ACIJZABPBB4NE': 0.905027381011967,\n",
       " 'A34ZN5M4QN0R0F': 0.9062639965618798,\n",
       " 'AC7LOS2JRYZ9O': 0.9207903042187259,\n",
       " 'A5HGRRYG905RR': 0.9032399940385977,\n",
       " 'A27QSWKPPGVMSZ': 0.9278633858733544,\n",
       " 'A3FAOADPWYQ9F2': 0.9155107525280636,\n",
       " 'A3O28YCDD5SI5Y': 0.9026164066470053,\n",
       " 'A944SUQYY8SJZ': 0.9060278961314833,\n",
       " 'A1HO6M6PEPN5SB': 0.9086710871249767,\n",
       " 'ANOKU2I34FFYA': 0.9037839832498552,\n",
       " 'A29JV3BCIGAIRK': 0.9049577590252065,\n",
       " 'A1ZDT2C74GCEEU': 0.923035835107611,\n",
       " 'A187DV2IG7HWIX': 0.9352284360946812,\n",
       " 'A1M08TENSHYFJB': 0.9014804003339207,\n",
       " 'A1J6O9EE4X4VOG': 0.9019158173747455,\n",
       " 'A2T99E90CFQA7Q': 0.9221790406967821,\n",
       " 'A1S2JG3B2L31PQ': 0.9262778052784739,\n",
       " 'A37TCUZ0Z8ZH3X': 0.908817457271107,\n",
       " 'A3LJU8O2LTP3R2': 0.9052741953691901,\n",
       " 'AIZ0P42ZNV8E9': 0.9049055118562386,\n",
       " 'A15VVOO4RD2WAO': 0.9189340585074144,\n",
       " 'A1TFRRV16EIN9D': 0.903919072503461,\n",
       " 'A1S99OD30G9PBP': 0.9273458494087116,\n",
       " 'A2BN67MBQQ23G1': 0.9221547596132865,\n",
       " 'ADY4D7V9CCES7': 0.9061498793170129,\n",
       " 'A148SNIQTXBFCY': 0.9034706222989197,\n",
       " 'AWQYWBEI0CRAV': 0.9085607172505218,\n",
       " 'A1IQ4GY1EQUG66': 0.9112153727986982,\n",
       " 'A3B6TGEY7ZQFMN': 0.9155130863349531,\n",
       " 'AFHJKKE9X4NW9': 0.9007694567363114,\n",
       " 'A1Y2OXTYN8P7OI': 0.909130854826552,\n",
       " 'A1ISTZLYJIU5J5': 0.9306420152319446,\n",
       " 'A22EN4920L3F1E': 0.9046830288249955,\n",
       " 'A1FQVKBOFHWKDX': 0.9165746804418436,\n",
       " 'AMST19F9D96J3': 0.9129957823609612,\n",
       " 'A1COGMXQ5XP2OA': 0.902898694692072,\n",
       " 'A34J3OZBEIFJWE': 0.9011590889241091,\n",
       " 'A2LCWBL4TFR3LO': 0.9234750829088281,\n",
       " 'A26KGQ2B9Z66YF': 0.9069901714262933,\n",
       " 'AN933FT1MLLUH': 0.9237155529853287,\n",
       " 'AW3IJC9MQK87S': 0.9197033693505082,\n",
       " 'A1QN19A24T50A7': 0.9189827194923871,\n",
       " 'A2062F7PL85CNC': 0.9008015170099785,\n",
       " 'A2JGGBA7C8C65Q': 0.9261817741118851,\n",
       " 'A23V36BZCDPWLT': 0.9005410051993293,\n",
       " 'A8C41XE5TCQXR': 0.909798859487339,\n",
       " 'A23OELSGPWMLXT': 0.9258138995436915,\n",
       " 'A9HEM904OZ9YU': 0.912587070761978,\n",
       " 'A3BL0RNFA0VU6N': 0.9076368894665502,\n",
       " 'A3MR42BH32F7IY': 0.9139538982943433,\n",
       " 'A1VB56IPAIV1NS': 0.9109668151290716,\n",
       " 'AZKPBWYY14GK1': 0.9207434648723638,\n",
       " 'A2ZL8L7CGINHHP': 0.9001241593725996,\n",
       " 'A3PEG97P1QTMK2': 0.9185608478608716,\n",
       " 'A1CYOG35LJWIAD': 0.9053586747714532,\n",
       " 'A18TITXP3WA1O8': 0.9141415372910651,\n",
       " 'A3V5H95A9S7MK4': 0.9077545922748841,\n",
       " 'AYMMC8LHK5X9P': 0.9014943115056214,\n",
       " 'A8PF4M5LT461H': 0.9044448454979929,\n",
       " 'A1BSS1S9NYTEYB': 0.9162844470364817,\n",
       " 'A152LNX4BOGFFW': 0.9017887804026614,\n",
       " 'A1LZC0L3YA72HU': 0.9157093198998649,\n",
       " 'A2Q979Z97Q1EKT': 0.92082432304566,\n",
       " 'APBBMYTANUOD1': 0.9042387050927109,\n",
       " 'A23S8XE9IJWFNM': 0.9099102131961104,\n",
       " 'AJ8S6NVT8IJV4': 0.9236115209097572,\n",
       " 'AI2H50TDUMIGJ': 0.92330450534627,\n",
       " 'A17OF6WF11SFPG': 0.9264949130271452,\n",
       " 'A1N6UR6Y2BZ3GG': 0.9144309179558352,\n",
       " 'AMSIYPTFPGTOE': 0.9029792301217823,\n",
       " 'A129CCVPFIJLXQ': 0.9183651447753507,\n",
       " 'A31C0SXAAHXODS': 0.9130674472420561,\n",
       " 'A3UC896DRT1J2': 0.9051467485913282,\n",
       " 'A2TZ0XY4PPAQ2X': 0.9061062634661886,\n",
       " 'A13OC62IR6JVOK': 0.901475084395323,\n",
       " 'APGE05SC50SPL': 0.9009540353601505,\n",
       " 'ASFXD8YLO67KW': 0.9009287008334125,\n",
       " 'A33CK9OFDUOVJ': 0.9009405125292732,\n",
       " 'A1NQF2RPXBIPIO': 0.9042931456279,\n",
       " 'A1DJR8TRR1PJBW': 0.9048230730750146,\n",
       " 'A25EIRACBKTP96': 0.9038924596359369,\n",
       " 'A2LHKFRUHQVI5M': 0.9196527107712092,\n",
       " 'A3SV9W045EB29E': 0.9012389783244222,\n",
       " 'A30VXR0X0B7U4Q': 0.9117630975648089,\n",
       " 'A1VVINPEW2EJLW': 0.9013810686851539,\n",
       " 'AHGHJHG3X2QI8': 0.912173291529737,\n",
       " 'A9JYA18JY89VC': 0.9136578209397267,\n",
       " 'A1AZ312EDBE5F0': 0.9154253582284283,\n",
       " 'A1508QCTX91AYM': 0.9065115825547592,\n",
       " 'A2UHODUN1DKQPE': 0.9052196655251571,\n",
       " 'A21XREPFNR2154': 0.914232644042557,\n",
       " 'A24XNOPF54RTPR': 0.9068691547661754,\n",
       " 'A2TB8SAU6I8AT0': 0.9029827223993816,\n",
       " 'A3A87S023OM0X': 0.9146959987898269,\n",
       " 'A15H3C1F9GTIV1': 0.9059490199575603,\n",
       " 'A2R0DRRSZEDDLE': 0.908736072604714,\n",
       " 'A3KXPH5J15JI7V': 0.9068163474278932,\n",
       " 'A35SOIP740HRKH': 0.9008831523474293,\n",
       " 'A1NI8MW5AB8Q6V': 0.9139951732138176,\n",
       " 'A3CMWAX6I8IR4W': 0.9348955405390341,\n",
       " 'A1S7RPVALAXEMQ': 0.9134503176169456,\n",
       " 'A363HRORN8CVXC': 0.9233369320021475,\n",
       " 'A32SN969YKJILL': 0.9150363249422409,\n",
       " 'A141Q35JQUVPGF': 0.9148542231647294,\n",
       " 'A12WPK02E57I1G': 0.923043327931362,\n",
       " 'A215438XFBE0HV': 0.9259784037896325,\n",
       " 'A2YT62X7HPT1XT': 0.905637360206545,\n",
       " 'A1ZWZPL4TR944A': 0.9093528590959612,\n",
       " 'A3NC8KVW2JLTF1': 0.906401951143756,\n",
       " 'A1BJSKD9HW4L0L': 0.9100155637781272,\n",
       " 'A3NVCU71MG02Z5': 0.9048500612972056,\n",
       " 'A3EYTSTNBQ7TOM': 0.9054830380629711,\n",
       " 'AXQDSVCRQNFAF': 0.9151867015183205,\n",
       " 'A2L9D2T240905Z': 0.9095213091990989,\n",
       " 'A2F5M9UR2W4JRD': 0.9095974218216781,\n",
       " 'A16ZNJD6MHB7R7': 0.9083914392590131,\n",
       " 'A1LOMB6CDRZYYS': 0.9235005087465815,\n",
       " 'A1SFC46L38VUSG': 0.930777948174883,\n",
       " 'AN56EAXXWU3IN': 0.9043157283175104,\n",
       " 'A1E337NAYHQD9O': 0.9024738864464612,\n",
       " 'ALX14EBICR85': 0.9104894166679299,\n",
       " 'APFZHKSUSJAOI': 0.9205168068772315,\n",
       " 'AFW9BUT9AHS2D': 0.9024428117482268,\n",
       " 'A2S2EVLLDUTQX9': 0.9105578365558348,\n",
       " 'A1WQIHZ2KXCQ68': 0.9097288862568111,\n",
       " 'A5BBX79MTKHQ4': 0.9085387635716399,\n",
       " 'A5002CC40324I': 0.9563252844227521,\n",
       " 'A16SF1TYLQM144': 0.9281506620967449,\n",
       " 'A2KZ5WW6K87XSV': 0.9022140400691272,\n",
       " 'A1WZT9GKH4L2Z6': 0.9058464686271005,\n",
       " 'AIDXLRK9XKSQZ': 0.9040719669534112,\n",
       " 'A24T6W93I5F5DA': 0.9259118351663734,\n",
       " 'AWWZNLFK1HGRZ': 0.9041206537734781,\n",
       " 'A30IIBR5SRA49T': 0.9107024327064166,\n",
       " 'A10OPDVIA2XWY2': 0.9101791091287001,\n",
       " 'A29SB0CL7V5FYF': 0.900132676845406,\n",
       " 'ARX1INFC6CP9O': 0.9150909446430465,\n",
       " 'A1NF3KSGHA9WLN': 0.9111303141698263,\n",
       " 'ASDLEE7A5O3R1': 0.9062896618741565,\n",
       " 'AKIK9H3SZZPLH': 0.9126919161559219,\n",
       " 'A1CDLBZ2JNOAK4': 0.9068747476676193,\n",
       " 'A29HMA1ATAK4MB': 0.907319407151086,\n",
       " 'A22DZ510LKRJVM': 0.9170902803769305,\n",
       " 'A3UV4P31G4LT0': 0.916154533031326,\n",
       " 'A1BRCGSHKCF2DP': 0.9053060344088052,\n",
       " 'A3FD6BZSW1AHDF': 0.9214146902282188,\n",
       " 'A13POEZFX2CNCO': 0.9193515697732298,\n",
       " 'A3RZ2XZC27FQ5O': 0.924938700133163,\n",
       " 'A21952ZBLDCGW8': 0.9068935645318619,\n",
       " 'A1ZL1RAS0SEU7U': 0.90237326450042,\n",
       " 'A21S5N7ZEU4QK9': 0.9047839735393065,\n",
       " 'A26F9O2TJOQ66Q': 0.9011912585163702,\n",
       " 'A2NXAAR67XNJMA': 0.9045454214106843,\n",
       " 'AX24J52ZQQ5ZU': 0.9011040324130148,\n",
       " 'A2U1WVTQHRQKU5': 0.9171549233173503,\n",
       " 'A3N0KQ50GO7SAI': 0.9154848591067108,\n",
       " 'A12CKR5CDH1MZF': 0.9067442569752192,\n",
       " 'A254S5CCQGWEKO': 0.9069540050914604,\n",
       " 'A21VLW9HNPLD0N': 0.9068456851158966,\n",
       " 'A1RPWOV4H563MA': 0.9076750118542803,\n",
       " 'A19SILHXY8CNCZ': 0.9324315995763766,\n",
       " 'AFB8HI47C97ZN': 0.9172872766279205,\n",
       " 'ADOS3M6ONAVOZ': 0.9047952309571152,\n",
       " 'A2PG92HAJMOZBN': 0.9017994952164654,\n",
       " 'AFQ1EGZML6OZL': 0.9479280228280731,\n",
       " 'A38CZDNPCEB3WZ': 0.9064066737555856,\n",
       " 'A3I4TE3VJCQ8FN': 0.9465979866744986,\n",
       " 'A2JB1R996FBHGU': 0.9206040571964091,\n",
       " 'A2E5XQS1PMGV22': 0.9078206853494901,\n",
       " 'A1RCUTPGZ0RHOJ': 0.9102953437029642,\n",
       " 'AJMRZC275B1JL': 0.910380578751378,\n",
       " 'A2A9YVC10N02PR': 0.9026265342278169,\n",
       " 'A1EQB03HQYCMB': 0.902153081946236,\n",
       " 'A1U3JWJGZNPDDR': 0.9188495120697503,\n",
       " 'A2EE1OXIC9PJNP': 0.901597160969443,\n",
       " 'A2I7FNNMP8ALI4': 0.9164867036950295,\n",
       " 'A1ZADG1C2EFRNV': 0.9144053337805855,\n",
       " 'A3M1Q4OYDWYJ70': 0.9259125185540856,\n",
       " 'A2K0R3LHZZRY6R': 0.9103504229810979,\n",
       " 'A3HOW3O6V3ZDRA': 0.9463424652019561,\n",
       " 'A1IL1AZ6B56U26': 0.9207335316209313,\n",
       " 'AI9GGBFQDPIHT': 0.9113240295782474,\n",
       " 'AVA9DBRN20WOK': 0.9003907573503276,\n",
       " 'A2W19IAPS7ZSDK': 0.9161358874607705,\n",
       " 'A1XUVWOWY0SXJ2': 0.904022389214294,\n",
       " 'A677SAWN907Q4': 0.913998438589127,\n",
       " 'A96O6X2YQCG89': 0.9219979925126509,\n",
       " 'AJ5WCSJ8C8Z5W': 0.901972167279182,\n",
       " 'A2PA6ZWABRN63S': 0.9106388241588436,\n",
       " 'ACCTVWELQLBWR': 0.9422823323958723,\n",
       " 'AVRNQL0GY4QZ2': 0.9132907076653368,\n",
       " 'A2LZ0NR8TJU00U': 0.9097767415451721,\n",
       " 'A3KDJE7GVM8OD6': 0.9056943454987647,\n",
       " 'A27YWL32X49CK0': 0.9120618530840401,\n",
       " 'A2Z84YK7PTQIA': 0.908388699523586,\n",
       " 'A21GX99SJHL7DF': 0.9058142017352023,\n",
       " 'A3FVRWUEH90MMQ': 0.925887210698871,\n",
       " 'A2OXTG5HSU3NWC': 0.903894894382753,\n",
       " 'ANUT78D9JZSB1': 0.9135395267563036,\n",
       " 'A2G3R5XISR71T': 0.904607405683634,\n",
       " 'A1T9JGGDE5Z0SA': 0.9241715818445606,\n",
       " 'A27AWHMVP9FXYF': 0.9070936571445416,\n",
       " 'AMIWD0PA1H1YB': 0.9185706367030252,\n",
       " 'A2FH5NNOZNCOJB': 0.9011879804068372,\n",
       " 'AUFJ9JJ6EO692': 0.9362940459024421,\n",
       " 'A5Q253VV5E41G': 0.9002743019854693,\n",
       " 'A30A0WY01B259C': 0.905288587144442,\n",
       " 'AQ8ATZLT4GJVZ': 0.9128057821571598,\n",
       " 'A3IYCAX7JV5XG8': 0.9200804706100992,\n",
       " 'A3LNKX22ZWRHUA': 0.9114258019132342,\n",
       " 'A34OOUYFLFC365': 0.9157754357379542,\n",
       " 'A1RBOBZ6U05L91': 0.9191825164651806,\n",
       " 'AME2KH8Z6MSOU': 0.9093823187339918,\n",
       " 'A3FHWQ3H3ZT2YE': 0.905271413612574,\n",
       " 'A1IV7IFG59HYKF': 0.9078679224993952,\n",
       " 'A3DBH7SSMLN0A1': 0.9387075115648783,\n",
       " 'A3JKEQKIHKF8JP': 0.9040117199394084,\n",
       " 'A304VOVBOK0H5L': 0.9012917211063058,\n",
       " 'A2RLPVO7BM6IAI': 0.9082957205318256,\n",
       " 'A347QECMPTJ1M': 0.9038071200445329,\n",
       " 'A1LBVG3VS9CI4': 0.9109609981614648,\n",
       " 'AHI0IFF96XB2M': 0.9334572473727161,\n",
       " 'A37ZHLFHHWBO5E': 0.944930729180428,\n",
       " 'A189CG1FNFWKLZ': 0.9417372881616992,\n",
       " 'A17D77DFID0GZG': 0.9236905354865076,\n",
       " 'A51MGTMXXITDG': 0.9015896072012843,\n",
       " 'AX3GAFXC7QACY': 0.9120270158120728,\n",
       " 'A2CVFMCOCD6LE4': 0.902849300837849,\n",
       " 'A12SLF4GNPPFRZ': 0.9265133285600591,\n",
       " 'AVM3ZQ49SV6ET': 0.9185195800749194,\n",
       " 'A3UQITEFZIXXHD': 0.9188253543397094,\n",
       " 'A1KC319LTINC7J': 0.9250694421852192,\n",
       " 'A1BKM7UL77QDD5': 0.9162665959412121,\n",
       " 'A26TN8R4COZSJ4': 0.9258977963320364,\n",
       " 'A2XCVGDAFL7S8I': 0.9110023962335787,\n",
       " 'AGD2AO0XQL08T': 0.9164198628165819,\n",
       " 'A2YN30V529QF3Q': 0.9016895140854363,\n",
       " 'A2GEQ6I6M11JR2': 0.9319751694520555,\n",
       " 'A1AXHH9YVW17MB': 0.9070210072371537,\n",
       " 'A3DI3FWLOO6QMZ': 0.9062905549953024,\n",
       " 'AVBPHXATCM5YN': 0.917138093795511,\n",
       " 'AZ2LMBMQ1E1HT': 0.911842875691624,\n",
       " 'A2UP9MFSG6XU9B': 0.9025924507816477,\n",
       " 'AVVJRQ67LF1OD': 0.9146641940571129,\n",
       " 'A3HV4AYKF1PXMV': 0.9197246620141377,\n",
       " 'A2XICXBGWI1G4Y': 0.9053759856717306,\n",
       " 'A16PIEV3K5V6AO': 0.9090665828326608,\n",
       " 'A144CSKS9ZR84O': 0.9019369364323555,\n",
       " 'A3TG61RSYK082T': 0.9072680744423939,\n",
       " 'A35QUJECZOLXQZ': 0.9491553789935233,\n",
       " 'A2W8DGAWTJ7TM1': 0.9373347110098121,\n",
       " 'A38VYZA2VMOFF1': 0.9016329715158872,\n",
       " 'A30HIALNJ5HMY0': 0.9033921759602344,\n",
       " 'ALW739ZDOWYLW': 0.9073961910128235,\n",
       " 'A150W095GWQ15L': 0.9277502514876267,\n",
       " 'A3VYFLXRV0TMGZ': 0.9030577773559397,\n",
       " 'A31W4WYUD8R6L9': 0.900848894942469,\n",
       " 'A1TJMCKFYGWIWP': 0.9050791899489284,\n",
       " 'A1772WSQYK2MWQ': 0.9023393081251618,\n",
       " 'AUEPX4XS1U4BY': 0.9476669795612421,\n",
       " 'A2L8KNQ4NU4VCC': 0.9053290675548912,\n",
       " 'A16SZY8L7UK1UN': 0.9105756929054463,\n",
       " 'A3K6VVOQBJOYCH': 0.9035688668947887,\n",
       " 'A23KQF5NMCENFK': 0.9008746815017376,\n",
       " 'A11V6ZJ2FVQY1D': 0.9030859419174505,\n",
       " 'A28VACO70PJMI7': 0.9074336267988281,\n",
       " 'A3LR7YQHVLMC16': 0.9036215349265929,\n",
       " 'A3R1Q5JHKOC36K': 0.9083228175427112,\n",
       " 'A3HEWYXVJM6TBB': 0.9248938145915571,\n",
       " 'A2XXJU0PEJVY25': 0.9287995048161505,\n",
       " 'A24FFPKHETA4U': 0.9273049715043898,\n",
       " 'ANR7K1T1YCKP3': 0.9049964588861812,\n",
       " 'A10ADBH8H9P880': 0.9028225794923451,\n",
       " 'A30X9M6AN1EPJP': 0.9052250432473667,\n",
       " 'A1EXHZAVRJYFHY': 0.9034049952828973,\n",
       " 'A1HN0FA8Y9L2NY': 0.9062076335613579,\n",
       " 'A3AXP905HCK9IT': 0.9242610774283709,\n",
       " 'A34FBZLFAU88UG': 0.9000358466806294,\n",
       " 'A1MTL8R6NIUVMN': 0.9345980038939946,\n",
       " 'A2TD2X84AUXFZ1': 0.9250410751339021,\n",
       " 'ANNDRS3P3SMQJ': 0.9092676946655053,\n",
       " 'A20J31JVVUWUM4': 0.9125738023722058,\n",
       " 'A1G6IPZ4FCUA20': 0.9170549559372496,\n",
       " 'A3NIT42USD2WFU': 0.9032681333097117,\n",
       " 'AA2IKBQ9VPXOS': 0.9040434111528038,\n",
       " 'A20J907437GAR7': 0.9040890073147759,\n",
       " 'AWMRA42Q3QSS9': 0.9259472334344926,\n",
       " 'A18WIITG68G0NE': 0.9079229345661971,\n",
       " 'APK9H34NUVHKA': 0.9058827800296163,\n",
       " 'A3W6AW8EE88J6': 0.9000001855304004,\n",
       " 'A2EQZ0EFUY4YP': 0.9280173452109926,\n",
       " 'A32WRLZBQCIXRN': 0.9284088518038079,\n",
       " 'A10HA2WMZC4TJR': 0.9015796228163534,\n",
       " 'A2V9V6M32JQOO5': 0.9105731529862218,\n",
       " 'A3FZ60ZUY9BHMC': 0.9477644267774658,\n",
       " 'A6I3WY3ED3QRV': 0.9034378863507225,\n",
       " 'A1OP2RI3U76KUV': 0.9091517561929412,\n",
       " 'A1CFYK9CSWL7G0': 0.906941136812796,\n",
       " 'A3BBL7R0STHMZA': 0.9129997165617126,\n",
       " 'A37LB2UGXR738': 0.907842444005532,\n",
       " 'A3D6J1P5D9LD1J': 0.9226478061640161,\n",
       " 'A10RTOU882FUFT': 0.908342226163258,\n",
       " 'A1C039K152VKOV': 0.9044214370308238,\n",
       " 'A3E4X1RSE5X529': 0.9158358133323943,\n",
       " 'A1PIGS0E1W534': 0.9164635951410998,\n",
       " 'A2R7K4DJO03T3J': 0.9028159530274883,\n",
       " 'A17MA6PYNLZ6YX': 0.9144075425747996,\n",
       " 'A81GAWK62OTFS': 0.9067588796496135,\n",
       " 'A9L3WQK604Q4F': 0.9270492408081719,\n",
       " 'A2RTP2XD6ENNEM': 0.9230913065604324,\n",
       " 'A353GJ739ICN81': 0.9314653408603124,\n",
       " 'A3SF7R5BRXPQJP': 0.9005240021231377,\n",
       " 'A2G0N24AEIJNNO': 0.9035252261119229,\n",
       " 'A5OLEEWYH6NJA': 0.9643146894317689,\n",
       " 'A2V82P47MLRHG1': 0.901199956051282,\n",
       " 'A2YEZ49ZEBGKP6': 0.9070295861472163,\n",
       " 'A1HHYW22EVGMYM': 0.9031480299521043,\n",
       " 'A279ZHZE4GGQAF': 0.907715522387177,\n",
       " 'A1RAQC9Z6VE2AB': 0.9115064937837628,\n",
       " 'AXM2NT9O7GF7S': 0.9228415238392665,\n",
       " 'A1PEGV21TJPTQ3': 0.9334639847999189,\n",
       " 'A16973B6RTGVE': 0.9075361375771674,\n",
       " 'A3MJTNX1N862QK': 0.9258112757606947,\n",
       " 'AAMZ09K0S95S7': 0.9051733223278781,\n",
       " 'A24G6Y3ZC60NZ0': 0.9088019376028843,\n",
       " 'A1JOS6YG8692ZJ': 0.9046789575446043,\n",
       " 'A1BXZVT6D5FFIP': 0.9003250609263668,\n",
       " 'A32WI8DXM3K69D': 0.9040593323205817,\n",
       " 'A3B1FZ0Z82803Q': 0.9087820500847973,\n",
       " 'A1HDM86OD5PZ3Q': 0.9335472886145596,\n",
       " 'A30GRTCRXQZ18B': 0.9006560313024337,\n",
       " 'A3O08KU1QEEXJG': 0.9022167117761715,\n",
       " 'A38VC31AXWPYSZ': 0.9128921570170059,\n",
       " 'A3KTWY04ET3VRT': 0.9075977594234766,\n",
       " 'A2D90XLS3UB6H9': 0.9010235624589131,\n",
       " 'AM0H2DRCY3JDL': 0.9020369101289029,\n",
       " 'ATCV692AZ5V8P': 0.9293911980771351,\n",
       " 'A1X7PS5B3E1DP7': 0.9154935763210383,\n",
       " 'A1LP73YAAQHB3Y': 0.9012779317575236,\n",
       " 'A3JGBC4VSMPH55': 0.9097847759508898,\n",
       " 'A12W81NHBRG67K': 0.9205239015869385,\n",
       " 'ASQFKYFTM1A3G': 0.9087663161306252,\n",
       " 'A1Y46RF148NXX6': 0.9099289171060562,\n",
       " 'A3VXPUA50AHDY1': 0.9162816565206342,\n",
       " 'A1CHRJYF3H1EUD': 0.9079935088329126,\n",
       " 'AP5QZN52YQLIP': 0.9111905137131807,\n",
       " 'A1L9FI7TKAFGZ2': 0.9064758480725057,\n",
       " 'A5TL6Y1MAVUDA': 0.9083645897172402,\n",
       " 'A1CDYOPVBL1WWC': 0.9248279374863262,\n",
       " 'A2VDFHUOKFUZ4F': 0.9036474328802693,\n",
       " 'A2KX54XAH5YGAW': 0.9039184466613055,\n",
       " 'A2CGCATJ3T3VHY': 0.9172978884340138,\n",
       " 'A2YMN7GAW51S6T': 0.9181113062462951,\n",
       " 'A2IDZP6NK9MBOS': 0.9232049365741773,\n",
       " 'A3ML6VWSNVJMMP': 0.9368787142890858,\n",
       " 'A3QPXUOD684ZYO': 0.9031832044092359,\n",
       " 'AYZXOI9XAJIU1': 0.9260908988519486,\n",
       " 'AK5SUC6HADAVZ': 0.9040234589017585,\n",
       " 'A2U38J8EIZQ29A': 0.9288963006954022,\n",
       " 'AXNTI6HI5WXEV': 0.9296605894982601,\n",
       " 'A31G34NO5VHBTN': 0.9037011381994716,\n",
       " 'A3E13IZ6WIPZWN': 0.9251308961788476,\n",
       " 'A3UJNWD1UG0U53': 0.9429414930508773,\n",
       " 'A2LP0BPV35HDM5': 0.9018194122817208,\n",
       " 'A2CP3LV2IGF4A5': 0.9081993227869323,\n",
       " 'A2NP25PHP9QJ5M': 0.9047598259644217,\n",
       " 'A227N7NT1GE8Z3': 0.9263610858861072,\n",
       " 'A2SKRPF893BSHM': 0.9017560297109681,\n",
       " 'A2B87C7CDZE78U': 0.9086889276391005,\n",
       " 'A3TJNQ9SRD8ZOC': 0.9024029905884722,\n",
       " 'A1GSJIP11GOOWU': 0.9174673111910417,\n",
       " 'A18JLLELSIXPFD': 0.9036757196476475,\n",
       " 'A31OKJRKHGLBYS': 0.9011159328406566,\n",
       " 'A1LK47ELTB29U3': 0.9028798592917529,\n",
       " 'A2XTG4VLIJ8NG7': 0.9118766382455235,\n",
       " 'AGDOWFCL6E4JE': 0.9028392608457749,\n",
       " 'A13GU1B9L8X2J6': 0.9107453094497971,\n",
       " 'A303PYH0GGUQBW': 0.9011841956245166,\n",
       " 'AOLJUFKW5TDPY': 0.9211432715681712,\n",
       " 'A1ZPKB2GU36RZV': 0.9183078338238513,\n",
       " 'A2MH6TL68MSZDU': 0.9144152046185984,\n",
       " 'A2JOVN3OCXAXWX': 0.9547371095603384,\n",
       " 'AWZGVRCB3MKBL': 0.911132976007835,\n",
       " 'A14AWPTKBI4JTS': 0.9015176543605796,\n",
       " 'A8T7LWA0NWEWM': 0.9087556342788897,\n",
       " 'A2FT40H635X3FJ': 0.9176669350698898,\n",
       " 'A1N4IQ1VBWG2G8': 0.9011668869436215,\n",
       " 'A17D75MMCXB3H4': 0.9153146429793899,\n",
       " 'A3DWRHW0EFD4CB': 0.9113336732928174,\n",
       " 'A9QGDJ97I5OJC': 0.908097596899132,\n",
       " 'AZVA520PZOJR3': 0.9130858443927398,\n",
       " 'A1JG0A2X6XOFD1': 0.9007668706614016,\n",
       " 'ARK2BVOPTJ93I': 0.900092249935904,\n",
       " 'A39W8UNYKORMGT': 0.9307440765944036,\n",
       " 'A25NVTHO8GT773': 0.9511407474180888,\n",
       " 'A1CR868UWQHSWW': 0.9051763983376067,\n",
       " 'A13QK7WNK0B94H': 0.9078316189212093,\n",
       " 'A209EK4TI10QRM': 0.9424605783765364,\n",
       " 'ABOYU3Z93K98I': 0.9038890345537494,\n",
       " 'A1INGJ6OX6TMT9': 0.9183937813672544,\n",
       " 'A2FZBU2BPHXRYC': 0.902064834173535,\n",
       " 'A1MAK8Q6LPF2O2': 0.9109083412194728,\n",
       " 'AGGNR8HJ7N8DF': 0.9064841830809458,\n",
       " 'A3MC8JL2XBN9ZH': 0.9051942549825779,\n",
       " 'A1F3157LAOJ6B5': 0.9075641143422272,\n",
       " 'AL0MLF4AINGY3': 0.922122675234935,\n",
       " 'A2V5AN8YL5U9K1': 0.9213440355452795,\n",
       " 'AQKBU214F3BYW': 0.9215999571014035,\n",
       " 'A1RIMMLJ4XK8C3': 0.9098157016181715,\n",
       " 'A3NSEKP1W6WBOC': 0.93570640612158,\n",
       " 'A30UWVHNOYAFWI': 0.9007440614436552,\n",
       " 'A1NRMLRE2QKZ08': 0.9230680643659847,\n",
       " 'A2YKGCM6CJB6U8': 0.9394479988914562,\n",
       " 'AZK4A0T3R89Q8': 0.9035943039423167,\n",
       " 'A2AX9GI68YW8AL': 0.9084161764676805,\n",
       " 'A1TAH6G235JTBI': 0.9119927649604289,\n",
       " 'A16ROV4SNPR3X6': 0.9010595619820556,\n",
       " 'AN9TA4CN34DKS': 0.912448404357472,\n",
       " 'A39EOVJ5C2FZI': 0.9202451139365759,\n",
       " 'A3IR2J8CYSNLRE': 0.9362182735390565,\n",
       " 'A1RRIHGTC8AKSG': 0.905333334946227,\n",
       " 'A2QINJB3DE9OLV': 0.9011815507489751,\n",
       " 'AMKK1IAQV35FY': 0.9101972402849258,\n",
       " 'A63TRJP2XQCD3': 0.9196603031606707,\n",
       " 'AMBD13R31ENKV': 0.9240695098609835,\n",
       " 'AUH792DXLWGXW': 0.9103553230011393,\n",
       " 'A2K6C26UZ129J3': 0.9118875142668869,\n",
       " 'A3NP4JF896RLX5': 0.906317298233651,\n",
       " 'AQR33IW7V25K6': 0.9029119216050492,\n",
       " 'A2U2JXSZGZX899': 0.9077806078207369,\n",
       " 'A1GV9YKRGB4MSQ': 1.0,\n",
       " 'A1356D9Y1UMIQ7': 0.9385135592309937,\n",
       " 'A1QSPLEZ3X06TV': 0.9152436189338812,\n",
       " 'A28RL6LXMA118H': 0.9026017460339215,\n",
       " 'A2PC2KUFA1SEJQ': 0.902109141582216,\n",
       " 'AYHY8LC792BMZ': 0.9030945109857953,\n",
       " 'AKOT63HE5MBOS': 0.9193128425791183,\n",
       " 'AQLUOAHVFQXUW': 0.9116684639119556,\n",
       " 'A2NGVE5ALOE5RE': 0.9047358481739366,\n",
       " 'A3NQ8X9XQ77QGJ': 0.901138211609675,\n",
       " 'ATRM25L6SDDFA': 0.9053966849823509,\n",
       " 'A1IC2T8CSP537G': 0.900034069267464,\n",
       " 'A3HBI3CU6QNNCK': 0.9044157076256295,\n",
       " 'A3G7PEFEAKB5BT': 0.9125626484851067,\n",
       " 'A201Y6SDISCJ5S': 0.9150217514692457,\n",
       " 'A24LZ1JLW1I4U7': 0.9040515707825836,\n",
       " 'A2528TWK6VNUCI': 0.9039166073671177,\n",
       " 'A3CZCJ4BN99XRQ': 0.9006132914683487,\n",
       " 'A2VFXFHFIUCZ0N': 0.9040270610506479,\n",
       " 'A8NCQO0E7M4LQ': 0.9275287806506488,\n",
       " 'A141WC0TY1PB6L': 0.9032416832171091,\n",
       " 'A28WB3OPOZJAYY': 0.9126633500295617,\n",
       " 'A28FJUZV8RV6GD': 0.9151835185523565,\n",
       " 'A1ZIT7ILC3EKMB': 0.9005067049415372,\n",
       " 'A627FNWX01IK2': 0.9029450207778121,\n",
       " 'A3V7BPARSE80XR': 0.9040767227661715,\n",
       " 'A2Z2XJC8RKFOD6': 0.9024236654744181,\n",
       " 'A9TNJ1BD7609C': 0.908496714403208,\n",
       " 'A1SWG9NVPYAELW': 0.9035015513736908,\n",
       " 'A2GA57EGD2JM5W': 0.9015176638443643,\n",
       " 'AU9CIPNQ9FVXD': 0.9296267988904323,\n",
       " 'AWQ8YJV8NTTK2': 0.9045568945611049,\n",
       " 'A2SH0UH95WNUI1': 0.9126661378987913,\n",
       " 'A2E6ABWUMRDEY8': 0.9058390096243045,\n",
       " 'A365VCR0M74XV1': 0.9045906348090101,\n",
       " 'A20QBKQIY056LS': 0.9180558687828083,\n",
       " 'A2ZMN6ZSD8DCP5': 0.9170091996916336,\n",
       " 'A27FLQ9AJSJ58I': 0.9042881648116623,\n",
       " 'A3RAWUUH1CL98F': 0.9046214996761383,\n",
       " 'A1AIFJJTFBJRPE': 0.9119138567500173,\n",
       " 'A13T3S3H9G0J5Z': 0.9380610987770941,\n",
       " 'A244RFOWIKMA4H': 0.9188573694751735,\n",
       " 'A3VGD2ZA7LPYZZ': 0.9132549658732743,\n",
       " 'A2FKGO9OW1L5QR': 0.905340259720109,\n",
       " 'A11J1FHCK5U06J': 0.9153574443195066,\n",
       " 'A32SK8XY51OQFR': 0.9217247572776927,\n",
       " 'A281OQI2WXT0H4': 0.9011294077403041,\n",
       " 'A2UK9O7KVKHJL4': 0.909732497318985,\n",
       " 'A3GR60CX22NHSP': 0.9151876776252957,\n",
       " 'A3O8EF078FILNL': 0.923312947195754,\n",
       " 'A3LB2NFSHKWGCJ': 0.9201425163886237,\n",
       " 'AR34S1IQX98MP': 0.9060662281455351,\n",
       " 'A28QIR30IHT0QR': 0.9187289105831872,\n",
       " 'A3AWHO15RK4GGE': 0.9014448284995514,\n",
       " 'A2Z0IOV7LLSICF': 0.9005749990157791,\n",
       " 'A390XPHE9J7DBO': 0.9277224247199851,\n",
       " 'A2HSJDSJC57MH7': 0.9159975388641155,\n",
       " 'A26F4J2K7BIPNK': 0.9167395717509801,\n",
       " 'A1YY4228BPP9DV': 0.9012690117287352,\n",
       " 'A3NPIXSLAUU1OM': 0.9131506532484076,\n",
       " 'A2NMDNXDGDF5L': 0.9259927307533151,\n",
       " 'A327TN72C0UWNE': 0.9088223847168858,\n",
       " 'AWF6W5KZJBF9E': 0.9011633904222212,\n",
       " 'A2QP1GPDEPK0IA': 0.9198763825334278,\n",
       " 'A35YYXFKZIPJEW': 0.9028023013999588,\n",
       " 'A22ZX01TPWQY4G': 0.9122106859040577,\n",
       " 'A39JPI41M5Y1RB': 0.9238609197581983,\n",
       " 'A18BMA5D7WJ5SA': 0.9472597942278252,\n",
       " 'A55OVGL4DYL1K': 0.9071659552541136,\n",
       " 'A1G21K3Y6Q5UPM': 0.9056279396765258,\n",
       " 'A1F70KXI4UC60P': 0.9034956479630785,\n",
       " 'A24IBBUZIHTPRQ': 0.9006398785086589,\n",
       " 'A27BM0NE02FMK5': 0.9048572012982938,\n",
       " 'A8SII63G1RISZ': 0.9383197637051767,\n",
       " 'A3NCAP4CU9UMGJ': 0.924469871826847,\n",
       " 'A4XYU9I365478': 0.9045681419135189,\n",
       " 'A16Z87JCG8VVEG': 0.9112214829661787,\n",
       " 'A2DT77DYNWF9AZ': 0.9003556229379268,\n",
       " 'AV9WW6GVBDBSL': 0.9207088609375532,\n",
       " 'A2CSUBM1565NGH': 0.9018380469334225,\n",
       " 'A350JKTQ5065XF': 0.9103824307761433,\n",
       " 'AC3EBB9WFT74A': 0.9011567090703129,\n",
       " 'A146JC6OIN0N4U': 0.9155628751943242,\n",
       " 'A39AF9CMGTZTJ5': 0.9162521115903178,\n",
       " 'A3PF27QXOPNYT2': 0.9355114821645558,\n",
       " 'A25BP2AZJDM7QL': 0.90045629354847,\n",
       " 'A2BO6PLD34SH65': 0.9130400641853135,\n",
       " 'A3Q886J7ZWYAOA': 0.9145639367732368,\n",
       " 'APFSGJQUOWFVS': 0.9323200178568025,\n",
       " 'A2CMYN5JP27Y3O': 0.9457214958889152,\n",
       " 'A19FZ6LJDCO4Q': 0.9796423091703734,\n",
       " 'A3QAMIFHNADIL2': 0.9870636971100651,\n",
       " 'A35HZ87UWCTOAJ': 0.9928047876117666,\n",
       " 'AWZ9P4DE90ZI1': 0.91759074465601,\n",
       " 'AR21MJKTQ7FQF': 0.9731447042834085,\n",
       " 'A3SJMDCYQATQXC': 0.9168172082397048,\n",
       " 'A1E9Z0CK7PLXTB': 0.9950327676446755,\n",
       " 'A1CCHLFAYJ21PB': 0.9086131543188526,\n",
       " 'A2ORLJWY9Q3BSW': 0.9493595382669312,\n",
       " 'A39RVSTYALW9VZ': 0.9434647340190349,\n",
       " 'A3UWFFS3BAQWQI': 0.97974765406115,\n",
       " 'A2WYMB9ZYTOFR1': 0.9273971017006848,\n",
       " 'A1PB6OT0OOPKNQ': 0.9988736614803213}"
      ]
     },
     "execution_count": 15,
     "metadata": {},
     "output_type": "execute_result"
    }
   ],
   "source": [
    "usuarios_justos"
   ]
  },
  {
   "cell_type": "code",
   "execution_count": 16,
   "metadata": {},
   "outputs": [
    {
     "data": {
      "text/plain": [
       "600"
      ]
     },
     "execution_count": 16,
     "metadata": {},
     "output_type": "execute_result"
    }
   ],
   "source": [
    "len(usuarios_justos)"
   ]
  },
  {
   "cell_type": "code",
   "execution_count": 17,
   "metadata": {},
   "outputs": [
    {
     "data": {
      "text/plain": [
       "0.012826822082143825"
      ]
     },
     "execution_count": 17,
     "metadata": {},
     "output_type": "execute_result"
    }
   ],
   "source": [
    "len(usuarios_justos)/len(reviews_nx.nodes())*100"
   ]
  },
  {
   "cell_type": "markdown",
   "metadata": {},
   "source": [
    "Utilizando el algoritmo de REV2 se obtuvieron dos diccionarios con los nombres de usuario y el valor de fariness.\n",
    "\n",
    "Considerando el fairness menor a 0.2 como usuario malicioso, se encontraron 22 usuarios, no mas del 0.0005% de la red\n",
    "\n",
    "Considerando el fairness mayor a 0.9 como usuario justo, se encontraron 600 usuarios, 0.02% de la red."
   ]
  }
 ],
 "metadata": {
  "kernelspec": {
   "display_name": "Python 3.9.12 ('base')",
   "language": "python",
   "name": "python3"
  },
  "language_info": {
   "codemirror_mode": {
    "name": "ipython",
    "version": 3
   },
   "file_extension": ".py",
   "mimetype": "text/x-python",
   "name": "python",
   "nbconvert_exporter": "python",
   "pygments_lexer": "ipython3",
   "version": "3.9.12"
  },
  "orig_nbformat": 4,
  "vscode": {
   "interpreter": {
    "hash": "a1b517d4a62fdc2cf0e484d22342d09353ad71db632c0c4702f6ba8ab4a7ce17"
   }
  }
 },
 "nbformat": 4,
 "nbformat_minor": 2
}
