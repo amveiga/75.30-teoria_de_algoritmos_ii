{
 "cells": [
  {
   "cell_type": "markdown",
   "metadata": {},
   "source": [
    "3. Considerá la siguiente red, suponiendo que todos los nodos tienen inicialmente un comportamiento B. Cada nodo puede cambiar al comportamiento A si al menos la mitad de sus vecinos tiene dicho comportamiento.\n",
    "\n",
    "    ![grafo_consigna](media/3-consigna.png)\n",
    "\n",
    "\n",
    "    a. Supongamos que los nodos E y F son early adopters del comportamiento A. Si los demás nodos siguen la regla del umbral (threshold) para adherir a este nuevo comportamiento, ¿qué nodos implementarían el comportamiento A?\n",
    "    \n",
    "    b. Explicar a qué se debe que el comportamiento A no se propaga a través de toda la red en el escenario del punto (a). ¿Qué característica de la red lo impide? (responder a esta pregunta no apuntando a nodos particulares sino a presencias de ciertas características) ¿Dónde más tendría que haber otro early adopter de A sí o sí para que el comportamiento se propague a través de toda la red?\n",
    "\n",
    "**[3 Puntos]**"
   ]
  },
  {
   "cell_type": "markdown",
   "metadata": {},
   "source": [
    "a. Unicamente los nodos C e I adoptarían el nuevo comportamiento, son los únicos que al menos tienen la mitad de sus vecinos con dicho comportamiento.\n",
    "\n",
    "<p align=\"middle\">\n",
    "  <img src=\"../media/3-a1.png\" width=\"700\" />\n",
    "</p>\n",
    "\n",
    "b. Esto se debe a que el grafo del ejercicio tiene comunidades ($E,C,F,I$ y $G,D,H,J$), esto afecta a la propagación de cascadas. Como se ve en este pequeño ejemplo es muy difícil que una cascada salga de una comunidad, sin embargo dentro de la comunidad se propaga de forma más fácil. \n",
    "\n",
    "Dado que un conjunto de early adopters ($F$ y $E$) no produjeron una cascada completa, entonces exite un cluster con una densidad mayor a $1-q$, siendo $q$ el threshold. En este ejemplo existe un cluster con una densidad mayor a $0,5$. Además, hay un par de lazos debiles, que le comunican a algunos nodos de la otra comunidad que cierto comportamiento existe, pero no son lo suficiente para que lo adopten.\n",
    "\n",
    "No es posible agregar simplemente un solo early adopter para que la cascada sea completa.\n",
    "\n",
    "<p align=\"middle\">\n",
    "  <img src=\"../media/3-b1.png\" width=\"700\" />\n",
    "  <img src=\"../media/3-b2.png\" width=\"700\" /> \n",
    "</p>\n",
    "<p align=\"middle\">\n",
    "  <img src=\"../media/3-b3.png\" width=\"700\" />\n",
    "  <img src=\"../media/3-b4.png\" width=\"700\" /> \n",
    "</p>\n",
    "<p align=\"middle\">\n",
    "  <img src=\"../media/3-b5.png\" width=\"700\" />\n",
    "</p>\n",
    "\n",
    "Pero colocando 2 ya sería posible. Por ejemplo:\n",
    "<p align=\"middle\">\n",
    "  <img src=\"../media/3-b6.png\" width=\"700\" />\n",
    "</p>"
   ]
  },
  {
   "cell_type": "markdown",
   "metadata": {},
   "source": []
  }
 ],
 "metadata": {
  "kernelspec": {
   "display_name": "Python 3.8.10 64-bit",
   "language": "python",
   "name": "python3"
  },
  "language_info": {
   "name": "python",
   "version": "3.8.10"
  },
  "orig_nbformat": 4,
  "vscode": {
   "interpreter": {
    "hash": "916dbcbb3f70747c44a77c7bcd40155683ae19c65e1c03b4aa3499c5328201f1"
   }
  }
 },
 "nbformat": 4,
 "nbformat_minor": 2
}
