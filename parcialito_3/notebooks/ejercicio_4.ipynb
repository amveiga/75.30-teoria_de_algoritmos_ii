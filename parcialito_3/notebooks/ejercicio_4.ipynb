{
 "cells": [
  {
   "cell_type": "markdown",
   "metadata": {},
   "source": [
    "4. Tenemos dos grafos no dirigidos $G_1$ y $G_2$ , con la misma cantidad de vértices y aristas. $G_1$ es un grafo aleatorio de Erdös-Rényi, mientras $G_2$ es un grafo que cumple la ley de potencias en la distribución de los grados. Consideremos un virus que comienza en un único vértice aleatorio y se expande según el modelo **SIR**.\n",
    "\n",
    "    a. ¿En cuál grafo es más probable que ocurra una epidemia (i.e. se infecte al menos un 30% de la red)? Justificar brevemente la respuesta. \n",
    "\n",
    "    b. Supongamos que en vez de comenzar en un vértice aleatorio, la epidemia comenzara en el vértice de mayor grado de $G_1$ y $G_2$ , respectivamente. ¿En cuál de los grafos es más probable que ocurra una epidemia? Justificar brevemente la respuesta.\n",
    "\n",
    "    c. ¿Cómo afecta la existencia (o no existencia) de comunidades en la expansión de la epidemia?\n",
    "\n",
    "    Para responder estas preguntas, se les recomienda realizar simulaciones. Pueden agregar todo tipo de resultados obtenidos para justificar sus respuestas.\n",
    "\n",
    "**[3 Puntos]**"
   ]
  },
  {
   "cell_type": "markdown",
   "metadata": {},
   "source": [
    "En el modelo de Erdös-Rényi, el coeficiente de clustering es muy bajo, con lo que "
   ]
  },
  {
   "cell_type": "code",
   "execution_count": 121,
   "metadata": {},
   "outputs": [],
   "source": [
    "import networkx as nx\n",
    "import ndlib.models.epidemics as ep\n",
    "import ndlib.models.ModelConfig as mc\n",
    "import sys\n",
    "sys.path.append('../')\n",
    "from social_networks_utils.modelos import preferential_attachment, erdos_renyi\n",
    "from social_networks_utils.metricas import grado_promedio\n",
    "import pandas as pd"
   ]
  },
  {
   "cell_type": "code",
   "execution_count": 118,
   "metadata": {},
   "outputs": [],
   "source": [
    "g1 = preferential_attachment(False, 2.5, 1000, 10)"
   ]
  },
  {
   "cell_type": "code",
   "execution_count": 119,
   "metadata": {},
   "outputs": [
    {
     "data": {
      "text/plain": [
       "(13256, 1000)"
      ]
     },
     "execution_count": 119,
     "metadata": {},
     "output_type": "execute_result"
    }
   ],
   "source": [
    "len(g1.edges()), len(g1.nodes())"
   ]
  },
  {
   "cell_type": "code",
   "execution_count": 129,
   "metadata": {},
   "outputs": [],
   "source": [
    "g2 = erdos_renyi(1000, grado_promedio(g1))"
   ]
  },
  {
   "cell_type": "code",
   "execution_count": 131,
   "metadata": {},
   "outputs": [
    {
     "data": {
      "text/plain": [
       "(13244, 1000)"
      ]
     },
     "execution_count": 131,
     "metadata": {},
     "output_type": "execute_result"
    }
   ],
   "source": [
    "len(g2.edges()), len(g2.nodes())"
   ]
  },
  {
   "cell_type": "code",
   "execution_count": 132,
   "metadata": {},
   "outputs": [],
   "source": [
    "model1 = ep.SIRModel(g1)\n",
    "model2 = ep.SIRModel(g2)"
   ]
  },
  {
   "cell_type": "code",
   "execution_count": 133,
   "metadata": {},
   "outputs": [],
   "source": [
    "# Model Configuration\n",
    "cfg = mc.Configuration()\n",
    "cfg.add_model_parameter('beta', 0.01)\n",
    "cfg.add_model_parameter('gamma', 0.005)\n",
    "cfg.add_model_parameter(\"fraction_infected\", 0.05)"
   ]
  },
  {
   "cell_type": "code",
   "execution_count": 134,
   "metadata": {},
   "outputs": [],
   "source": [
    "model1.set_initial_status(cfg)\n",
    "model2.set_initial_status(cfg)"
   ]
  },
  {
   "cell_type": "code",
   "execution_count": 135,
   "metadata": {},
   "outputs": [],
   "source": [
    "def infeccion_alcanzada(iteracion, porcentaje):\n",
    "    total_nodes = iteracion[\"node_count\"][0]+iteracion[\"node_count\"][1]+iteracion[\"node_count\"][2]\n",
    "    return (iteracion[\"node_count\"][1]+iteracion[\"node_count\"][2])/total_nodes >= (porcentaje/100)\n",
    "\n",
    "def epidemia_recuperada(iteracion):\n",
    "    return iteracion[\"node_count\"][1] == 0 "
   ]
  },
  {
   "cell_type": "code",
   "execution_count": 145,
   "metadata": {},
   "outputs": [],
   "source": [
    "veces_infeccion_alcanzada = {}"
   ]
  },
  {
   "cell_type": "code",
   "execution_count": 146,
   "metadata": {},
   "outputs": [],
   "source": [
    "\n",
    "model1.set_initial_status(cfg)\n",
    "model2.set_initial_status(cfg)\n",
    "\n",
    "for _ in range(4000):\n",
    "    model1.reset()\n",
    "    model2.reset()\n",
    "    \n",
    "    iteracion1 = model1.iteration()\n",
    "    iteracion2 = model2.iteration()\n",
    "    \n",
    "    while((not infeccion_alcanzada(iteracion1, 30) and not infeccion_alcanzada(iteracion2, 30))):\n",
    "        iteracion1 = model1.iteration()\n",
    "        iteracion2 = model2.iteration()\n",
    "    \n",
    "    if(infeccion_alcanzada(iteracion1, 30)):\n",
    "        veces_infeccion_alcanzada[\"model1\"] = veces_infeccion_alcanzada.get(\"model1\", 0) + 1\n",
    "    if(infeccion_alcanzada(iteracion2, 30)):\n",
    "        veces_infeccion_alcanzada[\"model2\"] = veces_infeccion_alcanzada.get(\"model2\", 0) + 1\n"
   ]
  },
  {
   "cell_type": "code",
   "execution_count": 147,
   "metadata": {},
   "outputs": [
    {
     "data": {
      "text/plain": [
       "{'model1': 2865, 'model2': 2811}"
      ]
     },
     "execution_count": 147,
     "metadata": {},
     "output_type": "execute_result"
    }
   ],
   "source": [
    "veces_infeccion_alcanzada"
   ]
  },
  {
   "cell_type": "markdown",
   "metadata": {},
   "source": []
  }
 ],
 "metadata": {
  "kernelspec": {
   "display_name": "Python 3.9.12 ('base')",
   "language": "python",
   "name": "python3"
  },
  "language_info": {
   "codemirror_mode": {
    "name": "ipython",
    "version": 3
   },
   "file_extension": ".py",
   "mimetype": "text/x-python",
   "name": "python",
   "nbconvert_exporter": "python",
   "pygments_lexer": "ipython3",
   "version": "3.9.12"
  },
  "orig_nbformat": 4,
  "vscode": {
   "interpreter": {
    "hash": "a1b517d4a62fdc2cf0e484d22342d09353ad71db632c0c4702f6ba8ab4a7ce17"
   }
  }
 },
 "nbformat": 4,
 "nbformat_minor": 2
}
