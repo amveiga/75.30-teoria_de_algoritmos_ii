{
 "cells": [
  {
   "cell_type": "markdown",
   "metadata": {},
   "source": [
    "4. Tenemos dos grafos no dirigidos $G_1$ y $G_2$ , con la misma cantidad de vértices y aristas. $G_1$ es un grafo aleatorio de Erdös-Rényi, mientras $G_2$ es un grafo que cumple la ley de potencias en la distribución de los grados. Consideremos un virus que comienza en un único vértice aleatorio y se expande según el modelo **SIR**.\n",
    "\n",
    "    a. ¿En cuál grafo es más probable que ocurra una epidemia (i.e. se infecte al menos un 30% de la red)? Justificar brevemente la respuesta. \n",
    "\n",
    "    b. Supongamos que en vez de comenzar en un vértice aleatorio, la epidemia comenzara en el vértice de mayor grado de $G_1$ y $G_2$ , respectivamente. ¿En cuál de los grafos es más probable que ocurra una epidemia? Justificar brevemente la respuesta.\n",
    "\n",
    "    c. ¿Cómo afecta la existencia (o no existencia) de comunidades en la expansión de la epidemia?\n",
    "\n",
    "    Para responder estas preguntas, se les recomienda realizar simulaciones. Pueden agregar todo tipo de resultados obtenidos para justificar sus respuestas.\n",
    "\n",
    "**[3 Puntos]**"
   ]
  },
  {
   "cell_type": "markdown",
   "metadata": {},
   "source": [
    "Funciones auxiliares\n",
    "\n",
    "---"
   ]
  },
  {
   "cell_type": "code",
   "execution_count": 91,
   "metadata": {},
   "outputs": [],
   "source": [
    "def infeccion_alcanzada(iteracion, porcentaje):\n",
    "    '''\n",
    "    Condicion de corte para la iteracion de la epidemia.\n",
    "    En el caso que la iteración halla alcanzado el porcentaje de infeccion\n",
    "    indicado, se retorna True.\n",
    "    '''\n",
    "    total_nodes = iteracion[\"node_count\"][0]+iteracion[\"node_count\"][1]+iteracion[\"node_count\"][2]\n",
    "    return (iteracion[\"node_count\"][1]+iteracion[\"node_count\"][2])/total_nodes >= (porcentaje/100)"
   ]
  },
  {
   "cell_type": "code",
   "execution_count": 92,
   "metadata": {},
   "outputs": [],
   "source": [
    "import networkx as nx\n",
    "import sys\n",
    "sys.path.append('../')\n",
    "from social_networks_utils.metricas import grado_promedio, clustering\n",
    "from social_networks_utils.homofilia import contar_aristas"
   ]
  },
  {
   "cell_type": "code",
   "execution_count": 93,
   "metadata": {},
   "outputs": [],
   "source": [
    "def graph_info_to_dict(G):\n",
    "    '''\n",
    "    Retorna un diccionario con la informacion \n",
    "    de las características principales del grafo G.\n",
    "    '''\n",
    "    d = {}\n",
    "    d['Diametro'] = nx.diameter(G)\n",
    "    d['Grado Promedio'] = grado_promedio(G)\n",
    "    d['Coeficiente de clustering'] = clustering(G)[1]\n",
    "    d['Cantidad de aristas'] = contar_aristas(G)\n",
    "    return d"
   ]
  },
  {
   "cell_type": "code",
   "execution_count": 94,
   "metadata": {},
   "outputs": [],
   "source": [
    "import numpy as np\n",
    "import matplotlib.pyplot as plt"
   ]
  },
  {
   "cell_type": "code",
   "execution_count": 96,
   "metadata": {},
   "outputs": [],
   "source": [
    "def graficar_histogramas_de_grados(g1,g2):\n",
    "    '''\n",
    "    Grafica los histogramas de los grados de los grafos g1 y g2.\n",
    "    '''\n",
    "    G = g1\n",
    "\n",
    "    degree_sequence = sorted((d for n, d in G.degree()), reverse=True)\n",
    "    dmax = max(degree_sequence)\n",
    "\n",
    "    fig = plt.figure(\"Degree of a random graph\", figsize=(8, 8))\n",
    "    # Create a gridspec for adding subplots of different sizes\n",
    "    axgrid = fig.add_gridspec(6, 6)\n",
    "\n",
    "    ax1 = fig.add_subplot(axgrid[:3, :])\n",
    "    ax1.bar(*np.unique(degree_sequence, return_counts=True))\n",
    "    ax1.set_title(\"Histograma de grados Preferential Attachment\")\n",
    "    ax1.set_xlabel(\"Degree\")\n",
    "    ax1.set_ylabel(\"# of Nodes\")\n",
    "\n",
    "    G = g2\n",
    "\n",
    "    degree_sequence = sorted((d for n, d in G.degree()), reverse=True)\n",
    "    dmax = max(degree_sequence)\n",
    "\n",
    "    ax2 = fig.add_subplot(axgrid[3:, :])\n",
    "    ax2.bar(*np.unique(degree_sequence, return_counts=True))\n",
    "    ax2.set_title(\"Histograma de grados Erdös-Rényi\")\n",
    "    ax2.set_xlabel(\"Degree\")\n",
    "    ax2.set_ylabel(\"# of Nodes\")\n",
    "\n",
    "    fig.tight_layout()\n",
    "    plt.show()"
   ]
  },
  {
   "cell_type": "markdown",
   "metadata": {},
   "source": [
    "---"
   ]
  },
  {
   "cell_type": "code",
   "execution_count": 2,
   "metadata": {},
   "outputs": [],
   "source": [
    "from social_networks_utils.modelos import preferential_attachment, erdos_renyi"
   ]
  },
  {
   "cell_type": "markdown",
   "metadata": {},
   "source": [
    "Primero creamos ambos grafos con cantidad similar de vertices y aristas"
   ]
  },
  {
   "cell_type": "code",
   "execution_count": 14,
   "metadata": {},
   "outputs": [],
   "source": [
    "g1 = preferential_attachment(False, 2.5, 2000, 10)"
   ]
  },
  {
   "cell_type": "code",
   "execution_count": 15,
   "metadata": {},
   "outputs": [
    {
     "data": {
      "text/plain": [
       "(26402, 2000)"
      ]
     },
     "execution_count": 15,
     "metadata": {},
     "output_type": "execute_result"
    }
   ],
   "source": [
    "len(g1.edges()), len(g1.nodes())"
   ]
  },
  {
   "cell_type": "code",
   "execution_count": 26,
   "metadata": {},
   "outputs": [],
   "source": [
    "g2 = erdos_renyi(2000, grado_promedio(g1))"
   ]
  },
  {
   "cell_type": "code",
   "execution_count": 27,
   "metadata": {},
   "outputs": [
    {
     "data": {
      "text/plain": [
       "(26337, 2000)"
      ]
     },
     "execution_count": 27,
     "metadata": {},
     "output_type": "execute_result"
    }
   ],
   "source": [
    "len(g2.edges()), len(g2.nodes())"
   ]
  },
  {
   "cell_type": "code",
   "execution_count": null,
   "metadata": {},
   "outputs": [],
   "source": [
    "import ndlib.models.epidemics as ep\n",
    "import ndlib.models.ModelConfig as mc"
   ]
  },
  {
   "cell_type": "code",
   "execution_count": 40,
   "metadata": {},
   "outputs": [],
   "source": [
    "model1 = ep.SIRModel(g1)\n",
    "model2 = ep.SIRModel(g2)\n",
    "# Model Configuration\n",
    "# Datos obtenidos a parir del ejemplo de la documentación\n",
    "cfg = mc.Configuration()\n",
    "cfg.add_model_parameter('beta', 0.01)\n",
    "cfg.add_model_parameter('gamma', 0.005)\n",
    "cfg.add_model_parameter(\"fraction_infected\", 0.05)\n",
    "\n",
    "# Inicialiazamos los modelos con la configuracion que queremos\n",
    "model1.set_initial_status(cfg)\n",
    "model2.set_initial_status(cfg)"
   ]
  },
  {
   "cell_type": "code",
   "execution_count": 44,
   "metadata": {},
   "outputs": [],
   "source": [
    "veces_infeccion_alcanzada = {}"
   ]
  },
  {
   "cell_type": "code",
   "execution_count": 45,
   "metadata": {},
   "outputs": [],
   "source": [
    "\n",
    "model1.set_initial_status(cfg)\n",
    "model2.set_initial_status(cfg)\n",
    "\n",
    "for _ in range(4000):\n",
    "    model1.reset()\n",
    "    model2.reset()\n",
    "    \n",
    "    iteracion1 = model1.iteration()\n",
    "    iteracion2 = model2.iteration()\n",
    "    \n",
    "    while((not infeccion_alcanzada(iteracion1, 30) and not infeccion_alcanzada(iteracion2, 30))):\n",
    "        iteracion1 = model1.iteration()\n",
    "        iteracion2 = model2.iteration()\n",
    "    \n",
    "    if(infeccion_alcanzada(iteracion1, 30)):\n",
    "        veces_infeccion_alcanzada[\"model1\"] = veces_infeccion_alcanzada.get(\"model1\", 0) + 1\n",
    "    if(infeccion_alcanzada(iteracion2, 30)):\n",
    "        veces_infeccion_alcanzada[\"model2\"] = veces_infeccion_alcanzada.get(\"model2\", 0) + 1\n"
   ]
  },
  {
   "cell_type": "code",
   "execution_count": 46,
   "metadata": {},
   "outputs": [
    {
     "data": {
      "text/plain": [
       "{'model2': 2914, 'model1': 3042}"
      ]
     },
     "execution_count": 46,
     "metadata": {},
     "output_type": "execute_result"
    }
   ],
   "source": [
    "veces_infeccion_alcanzada"
   ]
  },
  {
   "cell_type": "code",
   "execution_count": null,
   "metadata": {},
   "outputs": [],
   "source": [
    "import pandas as pd"
   ]
  },
  {
   "cell_type": "code",
   "execution_count": 90,
   "metadata": {},
   "outputs": [
    {
     "data": {
      "text/html": [
       "<div>\n",
       "<style scoped>\n",
       "    .dataframe tbody tr th:only-of-type {\n",
       "        vertical-align: middle;\n",
       "    }\n",
       "\n",
       "    .dataframe tbody tr th {\n",
       "        vertical-align: top;\n",
       "    }\n",
       "\n",
       "    .dataframe thead th {\n",
       "        text-align: right;\n",
       "    }\n",
       "</style>\n",
       "<table border=\"1\" class=\"dataframe\">\n",
       "  <thead>\n",
       "    <tr style=\"text-align: right;\">\n",
       "      <th></th>\n",
       "      <th>Preferential Attachment</th>\n",
       "      <th>Erdös-Rényi</th>\n",
       "    </tr>\n",
       "  </thead>\n",
       "  <tbody>\n",
       "    <tr>\n",
       "      <th>Diametro</th>\n",
       "      <td>4.000000</td>\n",
       "      <td>4.000000</td>\n",
       "    </tr>\n",
       "    <tr>\n",
       "      <th>Grado Promedio</th>\n",
       "      <td>26.402000</td>\n",
       "      <td>26.337000</td>\n",
       "    </tr>\n",
       "    <tr>\n",
       "      <th>Coeficiente de clustering</th>\n",
       "      <td>0.012666</td>\n",
       "      <td>0.013623</td>\n",
       "    </tr>\n",
       "    <tr>\n",
       "      <th>Cantidad de aristas</th>\n",
       "      <td>26402.000000</td>\n",
       "      <td>26337.000000</td>\n",
       "    </tr>\n",
       "  </tbody>\n",
       "</table>\n",
       "</div>"
      ],
      "text/plain": [
       "                           Preferential Attachment   Erdös-Rényi\n",
       "Diametro                                  4.000000      4.000000\n",
       "Grado Promedio                           26.402000     26.337000\n",
       "Coeficiente de clustering                 0.012666      0.013623\n",
       "Cantidad de aristas                   26402.000000  26337.000000"
      ]
     },
     "execution_count": 90,
     "metadata": {},
     "output_type": "execute_result"
    }
   ],
   "source": [
    "df = pd.DataFrame([graph_info_to_dict(g1), graph_info_to_dict(g2)]).T\n",
    "columns = ['Preferential Attachment','Erdös-Rényi']\n",
    "df.columns = columns\n",
    "df"
   ]
  },
  {
   "cell_type": "markdown",
   "metadata": {},
   "source": [
    "a. Luego de hacer 4000 simulaciones en las cuales las iteraciones cortaban en el caso que al menos en un grafo haya ocurrido una epidemia ()\n",
    "podemos ver que se logra que ocurra una epidemia de forma muy similar en ambos grafos. En el modelo que cumple con la ley de potencias ocurrio 3042 veces y en el de Erdös-Rényi ocurrio 2914 veces.\n",
    "\n",
    "Además comparando las características principales (diametro, grado promedio, coeficiente de clustering) de los grafos podemos ver que son semejantes. Las características que considero mas importantes para que la epidemia ocurra son los bajos coeficientes de clustering (en una red real tienden a ser más altos) y el bajo diametro (caracteristica similar a las redes reales).\n",
    "\n",
    "En conclusión la probabilidad que se genere una epidemia es similar y muy alta para estos tipos de redes."
   ]
  },
  {
   "cell_type": "markdown",
   "metadata": {},
   "source": [
    "b. En el caso que se comience en el vértice de mayor grado, el grafo que cumple con la ley de potencias va a ser el que más probabilidades tenga de ocurrir una epidemia. Esto se debe a que las leyes de potencia aparecen de la ventaja acumulativa, esto quiere decir que en el grafo se va a generar nodos con grados muy altos y nodos con muy grados bajos. Tiene un balance desproporcionado.\n",
    "\n",
    "Entonces es más probable el nodo de mayor grado se genere en el grafo que cumple con la ley de potencias y no en el Erdös-Rényi. Mientras mayor sea el grado del nodo, mayor alcance a otros nodos, generando una probabilidad que ocurra una epidemia más alta."
   ]
  },
  {
   "cell_type": "markdown",
   "metadata": {},
   "source": [
    "c. La existencia de comunidades no ayuda a la expansion de una epidemia, dado que se generan lazos débiles entre ellas. Si dos nodos conectan dos comunidades a través de un lazo debil y el infectado no logra contagiar al nodo de la otra comunidad, ninguno dentro de la comunidad 'sana' va a poder contagiarse."
   ]
  }
 ],
 "metadata": {
  "kernelspec": {
   "display_name": "Python 3.9.12 ('base')",
   "language": "python",
   "name": "python3"
  },
  "language_info": {
   "codemirror_mode": {
    "name": "ipython",
    "version": 3
   },
   "file_extension": ".py",
   "mimetype": "text/x-python",
   "name": "python",
   "nbconvert_exporter": "python",
   "pygments_lexer": "ipython3",
   "version": "3.9.12"
  },
  "orig_nbformat": 4,
  "vscode": {
   "interpreter": {
    "hash": "a1b517d4a62fdc2cf0e484d22342d09353ad71db632c0c4702f6ba8ab4a7ce17"
   }
  }
 },
 "nbformat": 4,
 "nbformat_minor": 2
}
