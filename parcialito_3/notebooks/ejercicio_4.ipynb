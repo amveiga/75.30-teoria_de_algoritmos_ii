{
 "cells": [
  {
   "cell_type": "markdown",
   "metadata": {},
   "source": [
    "4. Tenemos dos grafos no dirigidos $G_1$ y $G_2$ , con la misma cantidad de vértices y aristas. $G_1$ es un grafo aleatorio de Erdös-Rényi, mientras $G_2$ es un grafo que cumple la ley de potencias en la distribución de los grados. Consideremos un virus que comienza en un único vértice aleatorio y se expande según el modelo **SIR**.\n",
    "\n",
    "    a. ¿En cuál grafo es más probable que ocurra una epidemia (i.e. se infecte al menos un 30% de la red)? Justificar brevemente la respuesta. \n",
    "\n",
    "    b. Supongamos que en vez de comenzar en un vértice aleatorio, la epidemia comenzara en el vértice de mayor grado de $G_1$ y $G_2$ , respectivamente. ¿En cuál de los grafos es más probable que ocurra una epidemia? Justificar brevemente la respuesta.\n",
    "\n",
    "    c. ¿Cómo afecta la existencia (o no existencia) de comunidades en la expansión de la epidemia?\n",
    "\n",
    "    Para responder estas preguntas, se les recomienda realizar simulaciones. Pueden agregar todo tipo de resultados obtenidos para justificar sus respuestas.\n",
    "\n",
    "**[3 Puntos]**"
   ]
  },
  {
   "cell_type": "code",
   "execution_count": 1,
   "metadata": {},
   "outputs": [
    {
     "ename": "ModuleNotFoundError",
     "evalue": "No module named 'ndlib'",
     "output_type": "error",
     "traceback": [
      "\u001b[0;31m---------------------------------------------------------------------------\u001b[0m",
      "\u001b[0;31mModuleNotFoundError\u001b[0m                       Traceback (most recent call last)",
      "\u001b[1;32m/home/amveiga/teoria_de_algoritmos_ii/parcialito_3/notebooks/ejercicio_4.ipynb Celda 2\u001b[0m in \u001b[0;36m<cell line: 5>\u001b[0;34m()\u001b[0m\n\u001b[1;32m      <a href='vscode-notebook-cell:/home/amveiga/teoria_de_algoritmos_ii/parcialito_3/notebooks/ejercicio_4.ipynb#ch0000002?line=2'>3</a>\u001b[0m sys\u001b[39m.\u001b[39mpath\u001b[39m.\u001b[39mappend(\u001b[39m'\u001b[39m\u001b[39m../\u001b[39m\u001b[39m'\u001b[39m)\n\u001b[1;32m      <a href='vscode-notebook-cell:/home/amveiga/teoria_de_algoritmos_ii/parcialito_3/notebooks/ejercicio_4.ipynb#ch0000002?line=3'>4</a>\u001b[0m \u001b[39mfrom\u001b[39;00m \u001b[39msocial_networks_utils\u001b[39;00m\u001b[39m.\u001b[39;00m\u001b[39mmodelos\u001b[39;00m \u001b[39mimport\u001b[39;00m preferential_attachment, erdos_renyi\n\u001b[0;32m----> <a href='vscode-notebook-cell:/home/amveiga/teoria_de_algoritmos_ii/parcialito_3/notebooks/ejercicio_4.ipynb#ch0000002?line=4'>5</a>\u001b[0m \u001b[39mimport\u001b[39;00m \u001b[39mndlib\u001b[39;00m\u001b[39m.\u001b[39;00m\u001b[39mmodels\u001b[39;00m\u001b[39m.\u001b[39;00m\u001b[39mepidemics\u001b[39;00m \u001b[39mas\u001b[39;00m \u001b[39mep\u001b[39;00m\n",
      "\u001b[0;31mModuleNotFoundError\u001b[0m: No module named 'ndlib'"
     ]
    }
   ],
   "source": [
    "import networkx as nx\n",
    "import sys\n",
    "sys.path.append('../')\n",
    "from social_networks_utils.modelos import preferential_attachment, erdos_renyi\n",
    "import ndlib.models.epidemics as ep\n"
   ]
  },
  {
   "cell_type": "code",
   "execution_count": 66,
   "metadata": {},
   "outputs": [],
   "source": [
    "g1 = erdos_renyi(10000,2)\n",
    "# Creo un grafo similar al del parcialito 1 con un alfa de 2\n",
    "g2 = preferential_attachment(False, 2, 10000, 1)"
   ]
  },
  {
   "cell_type": "code",
   "execution_count": 67,
   "metadata": {},
   "outputs": [
    {
     "data": {
      "text/plain": [
       "(10053, 10000)"
      ]
     },
     "execution_count": 67,
     "metadata": {},
     "output_type": "execute_result"
    }
   ],
   "source": [
    "len(g1.edges()), len(g1.nodes())"
   ]
  },
  {
   "cell_type": "code",
   "execution_count": 68,
   "metadata": {},
   "outputs": [
    {
     "data": {
      "text/plain": [
       "(9999, 10000)"
      ]
     },
     "execution_count": 68,
     "metadata": {},
     "output_type": "execute_result"
    }
   ],
   "source": [
    "len(g2.edges()), len(g2.nodes())"
   ]
  },
  {
   "cell_type": "markdown",
   "metadata": {},
   "source": []
  }
 ],
 "metadata": {
  "kernelspec": {
   "display_name": "Python 3.9.12 ('base')",
   "language": "python",
   "name": "python3"
  },
  "language_info": {
   "codemirror_mode": {
    "name": "ipython",
    "version": 3
   },
   "file_extension": ".py",
   "mimetype": "text/x-python",
   "name": "python",
   "nbconvert_exporter": "python",
   "pygments_lexer": "ipython3",
   "version": "3.9.12"
  },
  "orig_nbformat": 4,
  "vscode": {
   "interpreter": {
    "hash": "a1b517d4a62fdc2cf0e484d22342d09353ad71db632c0c4702f6ba8ab4a7ce17"
   }
  }
 },
 "nbformat": 4,
 "nbformat_minor": 2
}
