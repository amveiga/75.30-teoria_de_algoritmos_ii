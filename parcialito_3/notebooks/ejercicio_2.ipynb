{
 "cells": [
  {
   "cell_type": "markdown",
   "metadata": {},
   "source": [
    "2. Considerando el modelo de cascadas de información visto en clase, supongamos que hay una nueva tecnología que los individuos pueden optar por aceptar o rechazar. Supongamos que cada uno que acepta la tecnología recibe una ganancia positiva o negativa (sin conocerla a priori). Estos valores son aleatorios para cada nodo, y si la tecnología es “Buena”, entonces el promedio será positivo, y si la tecnología es “Mala” el promedio será negativo (esta información es conocida por los individuos). Quienes rechacen la tecnología reciben ganancia 0. En este modelo, cuando a un individuo le toca elegir si acepta o rechaza la nueva tecnología, recibe la información de las ganancias de todos los que vinieron antes.\n",
    "\n",
    "    a. Supongamos que esta nueva tecnología es, en realidad, “Mala”. ¿Cómo afecta esta nueva información (qué ganancia tuvo cada uno de los que vinieron antes) a la potencial formación de una cascada para que persista la nueva tecnología? (No es necesario dar una demostración, simplemente argumentar) \n",
    "    \n",
    "    b. Supongamos que esta nueva tecnología es, en realidad, “Buena”. ¿Puede surgir una cascada de rechazo de esta nueva tecnología?\n",
    "\n",
    "**[2 Puntos]**"
   ]
  },
  {
   "cell_type": "markdown",
   "metadata": {},
   "source": [
    "a.  Los primeros que adopten la nueva tecnología serían los únicos en elegir a ciegas, dado que no tienen/tienen muy poca información sobre el promedio, una vez que un par hayan elegido, simplemente el resto va a elegir por convenciencia. En el caso que la tecnología sea mala, es muy poco probable que se forme una cascada para que persista la nueva tecnología sabiendo el promedio de ganancias de los que eligieron antes. Simplemente habría que fijarse ese promedio y en base a eso elegir. Si la tecnología es mala, un individuo que vea que el promedio es negativo **no** le conviene aceptar esta nueva tecnología dado que se arriesgan a tener ganancia negativa cuando rechazar la tecnología da ganancia 0.\n",
    "\n",
    "b. Es posible que a los primeros que acepten la tecnología, se les asigne aleatoriamente ganancia negativa. Provocando que ninguno más se arriesgue a aceptar la nueva tecnología y opten por rechazarla sin arriesgarse."
   ]
  },
  {
   "cell_type": "markdown",
   "metadata": {},
   "source": []
  }
 ],
 "metadata": {
  "kernelspec": {
   "display_name": "Python 3.8.10 64-bit",
   "language": "python",
   "name": "python3"
  },
  "language_info": {
   "name": "python",
   "version": "3.8.10"
  },
  "orig_nbformat": 4,
  "vscode": {
   "interpreter": {
    "hash": "916dbcbb3f70747c44a77c7bcd40155683ae19c65e1c03b4aa3499c5328201f1"
   }
  }
 },
 "nbformat": 4,
 "nbformat_minor": 2
}
