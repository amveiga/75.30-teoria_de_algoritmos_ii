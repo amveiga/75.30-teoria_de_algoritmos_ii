{
 "cells": [
  {
   "cell_type": "markdown",
   "metadata": {},
   "source": [
    "2. Considerando el modelo de cascadas de información visto en clase, supongamos que hay una nueva tecnología que los individuos pueden optar por aceptar o rechazar. Supongamos que cada uno que acepta la tecnología recibe una ganancia positiva o negativa (sin conocerla a priori). Estos valores son aleatorios para cada nodo, y si la tecnología es “Buena”, entonces el promedio será positivo, y si la tecnología es “Mala” el promedio será negativo (esta información es conocida por los individuos). Quienes rechacen la tecnología reciben ganancia 0. En este modelo, cuando a un individuo le toca elegir si acepta o rechaza la nueva tecnología, recibe la información de las ganancias de todos los que vinieron antes.\n",
    "\n",
    "    a. Supongamos que esta nueva tecnología es, en realidad, “Mala”. ¿Cómo afecta esta nueva información (qué ganancia tuvo cada uno de los que vinieron antes) a la potencial formación de una cascada para que persista la nueva tecnología? (No es necesario dar una demostración, simplemente argumentar) \n",
    "    \n",
    "    b. Supongamos que esta nueva tecnología es, en realidad, “Buena”. ¿Puede surgir una cascada de rechazo de esta nueva tecnología?\n",
    "\n",
    "**[2 Puntos]**"
   ]
  },
  {
   "cell_type": "markdown",
   "metadata": {},
   "source": [
    "a. En este modelo, hasta que haya alguno que sea el primero en aceptar esta nueva tecnología todos los que elijan antes tienen una probabilidad de 0.5 de que la nueva tecnología sea buena o mala, ya que al rechazar, la ganancia es 0. A partir de la elección del primero que acepte la tecnología, el que venga después va a tener el conocimiento de si la tecnología es buena o mala. En el caso que la tecnología sea mala, no le conviene mentir y decir elegir que es buena, ya que tendría ganancia negativa, es preferible tener ganancia 0 y no tomar la tecnología. A partir de ahí nadie le va a convenir aceptar la tecnología. Por tanto esta información haría que no persista la nueva tecnología.\n",
    "\n",
    "b. El planteo para el caso que la nueva tecnología sea buena es igual, cuando el primero que tomé la decisión de aceptar la tecnología, el resto va a tener conocimientos de si es buena o mala. Sin embargo puede suceder que nadie se quiera arriesgar a aceptar esta nueva tecnología ya que no se recibe ninguna penalización en caso de rechazarla. Por lo tanto, con este modelo hay posibilidad de una cascada de rechazo de la nueva tecnología.\n"
   ]
  },
  {
   "cell_type": "markdown",
   "metadata": {},
   "source": []
  }
 ],
 "metadata": {
  "kernelspec": {
   "display_name": "Python 3.8.10 64-bit",
   "language": "python",
   "name": "python3"
  },
  "language_info": {
   "name": "python",
   "version": "3.8.10"
  },
  "orig_nbformat": 4,
  "vscode": {
   "interpreter": {
    "hash": "916dbcbb3f70747c44a77c7bcd40155683ae19c65e1c03b4aa3499c5328201f1"
   }
  }
 },
 "nbformat": 4,
 "nbformat_minor": 2
}
