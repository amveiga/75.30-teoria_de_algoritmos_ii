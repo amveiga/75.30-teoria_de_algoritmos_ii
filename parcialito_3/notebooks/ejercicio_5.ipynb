{
 "cells": [
  {
   "cell_type": "markdown",
   "metadata": {},
   "source": [
    "5. Aplicar el Algoritmo REV2 al siguiente set de datos de reviews de productos de Amazon, para detectar potenciales usuarios maliciosos y otros ciertamente honestos. Por simplificación (y unificación de criterios), considerar $γ_1 = γ_2 = 0.5$. Obtener aquellos usuarios cuya justicia (fairness) es menor o igual a 0.2 (son maliciosos) y tienen al menos 5 reviews, así como la proporción de nodos que son extremadamente justos: aquellos con justicia mayor o igual a 0.9, y con al\n",
    "menos 10 reviews (aristas de salida). \n",
    "\n",
    "**[2 Puntos]**"
   ]
  },
  {
   "cell_type": "code",
   "execution_count": 1,
   "metadata": {},
   "outputs": [],
   "source": [
    "import pandas as pd\n",
    "import numpy as np"
   ]
  },
  {
   "cell_type": "code",
   "execution_count": 2,
   "metadata": {},
   "outputs": [],
   "source": [
    "reviews_df = pd.read_csv('../data/ratings_Electronics.csv')"
   ]
  },
  {
   "cell_type": "code",
   "execution_count": 3,
   "metadata": {},
   "outputs": [
    {
     "data": {
      "text/html": [
       "<div>\n",
       "<style scoped>\n",
       "    .dataframe tbody tr th:only-of-type {\n",
       "        vertical-align: middle;\n",
       "    }\n",
       "\n",
       "    .dataframe tbody tr th {\n",
       "        vertical-align: top;\n",
       "    }\n",
       "\n",
       "    .dataframe thead th {\n",
       "        text-align: right;\n",
       "    }\n",
       "</style>\n",
       "<table border=\"1\" class=\"dataframe\">\n",
       "  <thead>\n",
       "    <tr style=\"text-align: right;\">\n",
       "      <th></th>\n",
       "      <th>User ID</th>\n",
       "      <th>Product ID</th>\n",
       "      <th>Rating</th>\n",
       "      <th>Time Stamp</th>\n",
       "    </tr>\n",
       "  </thead>\n",
       "  <tbody>\n",
       "    <tr>\n",
       "      <th>0</th>\n",
       "      <td>AKM1MP6P0OYPR</td>\n",
       "      <td>0132793040</td>\n",
       "      <td>5.0</td>\n",
       "      <td>1365811200</td>\n",
       "    </tr>\n",
       "    <tr>\n",
       "      <th>1</th>\n",
       "      <td>A2CX7LUOHB2NDG</td>\n",
       "      <td>0321732944</td>\n",
       "      <td>5.0</td>\n",
       "      <td>1341100800</td>\n",
       "    </tr>\n",
       "    <tr>\n",
       "      <th>2</th>\n",
       "      <td>A2NWSAGRHCP8N5</td>\n",
       "      <td>0439886341</td>\n",
       "      <td>1.0</td>\n",
       "      <td>1367193600</td>\n",
       "    </tr>\n",
       "    <tr>\n",
       "      <th>3</th>\n",
       "      <td>A2WNBOD3WNDNKT</td>\n",
       "      <td>0439886341</td>\n",
       "      <td>3.0</td>\n",
       "      <td>1374451200</td>\n",
       "    </tr>\n",
       "    <tr>\n",
       "      <th>4</th>\n",
       "      <td>A1GI0U4ZRJA8WN</td>\n",
       "      <td>0439886341</td>\n",
       "      <td>1.0</td>\n",
       "      <td>1334707200</td>\n",
       "    </tr>\n",
       "  </tbody>\n",
       "</table>\n",
       "</div>"
      ],
      "text/plain": [
       "          User ID  Product ID  Rating  Time Stamp\n",
       "0   AKM1MP6P0OYPR  0132793040     5.0  1365811200\n",
       "1  A2CX7LUOHB2NDG  0321732944     5.0  1341100800\n",
       "2  A2NWSAGRHCP8N5  0439886341     1.0  1367193600\n",
       "3  A2WNBOD3WNDNKT  0439886341     3.0  1374451200\n",
       "4  A1GI0U4ZRJA8WN  0439886341     1.0  1334707200"
      ]
     },
     "execution_count": 3,
     "metadata": {},
     "output_type": "execute_result"
    }
   ],
   "source": [
    "reviews_df.head()"
   ]
  },
  {
   "cell_type": "code",
   "execution_count": 4,
   "metadata": {},
   "outputs": [],
   "source": [
    "reviews_df[\"Rating\"] = np.where(reviews_df[\"Rating\"] < 2.5, -1, 1)"
   ]
  },
  {
   "cell_type": "code",
   "execution_count": 5,
   "metadata": {},
   "outputs": [
    {
     "data": {
      "text/html": [
       "<div>\n",
       "<style scoped>\n",
       "    .dataframe tbody tr th:only-of-type {\n",
       "        vertical-align: middle;\n",
       "    }\n",
       "\n",
       "    .dataframe tbody tr th {\n",
       "        vertical-align: top;\n",
       "    }\n",
       "\n",
       "    .dataframe thead th {\n",
       "        text-align: right;\n",
       "    }\n",
       "</style>\n",
       "<table border=\"1\" class=\"dataframe\">\n",
       "  <thead>\n",
       "    <tr style=\"text-align: right;\">\n",
       "      <th></th>\n",
       "      <th>User ID</th>\n",
       "      <th>Product ID</th>\n",
       "      <th>Rating</th>\n",
       "      <th>Time Stamp</th>\n",
       "    </tr>\n",
       "  </thead>\n",
       "  <tbody>\n",
       "    <tr>\n",
       "      <th>0</th>\n",
       "      <td>AKM1MP6P0OYPR</td>\n",
       "      <td>0132793040</td>\n",
       "      <td>1</td>\n",
       "      <td>1365811200</td>\n",
       "    </tr>\n",
       "    <tr>\n",
       "      <th>1</th>\n",
       "      <td>A2CX7LUOHB2NDG</td>\n",
       "      <td>0321732944</td>\n",
       "      <td>1</td>\n",
       "      <td>1341100800</td>\n",
       "    </tr>\n",
       "    <tr>\n",
       "      <th>2</th>\n",
       "      <td>A2NWSAGRHCP8N5</td>\n",
       "      <td>0439886341</td>\n",
       "      <td>-1</td>\n",
       "      <td>1367193600</td>\n",
       "    </tr>\n",
       "    <tr>\n",
       "      <th>3</th>\n",
       "      <td>A2WNBOD3WNDNKT</td>\n",
       "      <td>0439886341</td>\n",
       "      <td>1</td>\n",
       "      <td>1374451200</td>\n",
       "    </tr>\n",
       "    <tr>\n",
       "      <th>4</th>\n",
       "      <td>A1GI0U4ZRJA8WN</td>\n",
       "      <td>0439886341</td>\n",
       "      <td>-1</td>\n",
       "      <td>1334707200</td>\n",
       "    </tr>\n",
       "  </tbody>\n",
       "</table>\n",
       "</div>"
      ],
      "text/plain": [
       "          User ID  Product ID  Rating  Time Stamp\n",
       "0   AKM1MP6P0OYPR  0132793040       1  1365811200\n",
       "1  A2CX7LUOHB2NDG  0321732944       1  1341100800\n",
       "2  A2NWSAGRHCP8N5  0439886341      -1  1367193600\n",
       "3  A2WNBOD3WNDNKT  0439886341       1  1374451200\n",
       "4  A1GI0U4ZRJA8WN  0439886341      -1  1334707200"
      ]
     },
     "execution_count": 5,
     "metadata": {},
     "output_type": "execute_result"
    }
   ],
   "source": [
    "reviews_df.head()"
   ]
  },
  {
   "cell_type": "code",
   "execution_count": 6,
   "metadata": {},
   "outputs": [],
   "source": [
    "import networkx as nx"
   ]
  },
  {
   "cell_type": "code",
   "execution_count": 7,
   "metadata": {},
   "outputs": [],
   "source": [
    "reviews_nx = nx.from_pandas_edgelist(reviews_df, source='User ID', target='Product ID', edge_attr='Rating',create_using=nx.DiGraph())"
   ]
  },
  {
   "cell_type": "code",
   "execution_count": 8,
   "metadata": {},
   "outputs": [],
   "source": [
    "fairness = {}\n",
    "reliability = {}\n",
    "goodness = {}"
   ]
  },
  {
   "cell_type": "code",
   "execution_count": 9,
   "metadata": {},
   "outputs": [],
   "source": [
    "y1 = 0.5\n",
    "y2 = 0.5"
   ]
  },
  {
   "cell_type": "code",
   "execution_count": 10,
   "metadata": {},
   "outputs": [],
   "source": [
    "def reliability_score(y1,y2,fairness,score,goodness):\n",
    "    return (1/(y1+y2)) * (y1*fairness + y2*(1-((abs(score-goodness))/2)))"
   ]
  },
  {
   "cell_type": "code",
   "execution_count": 11,
   "metadata": {},
   "outputs": [
    {
     "name": "stdout",
     "output_type": "stream",
     "text": [
      "Iteración:  0\n",
      "Iteración:  1\n",
      "Iteración:  2\n",
      "Iteración:  3\n"
     ]
    },
    {
     "ename": "KeyboardInterrupt",
     "evalue": "",
     "output_type": "error",
     "traceback": [
      "\u001b[0;31m---------------------------------------------------------------------------\u001b[0m",
      "\u001b[0;31mKeyboardInterrupt\u001b[0m                         Traceback (most recent call last)",
      "\u001b[1;32m/home/amveiga/teoria_de_algoritmos_ii/parcialito_3/notebooks/ejercicio_5.ipynb Celda 12\u001b[0m in \u001b[0;36m<cell line: 1>\u001b[0;34m()\u001b[0m\n\u001b[1;32m     <a href='vscode-notebook-cell:/home/amveiga/teoria_de_algoritmos_ii/parcialito_3/notebooks/ejercicio_5.ipynb#ch0000011?line=12'>13</a>\u001b[0m         reliability_x_score_sum \u001b[39m=\u001b[39m \u001b[39m0\u001b[39m\n\u001b[1;32m     <a href='vscode-notebook-cell:/home/amveiga/teoria_de_algoritmos_ii/parcialito_3/notebooks/ejercicio_5.ipynb#ch0000011?line=13'>14</a>\u001b[0m         \u001b[39mfor\u001b[39;00m user,_ \u001b[39min\u001b[39;00m reviews_nx\u001b[39m.\u001b[39min_edges(product):\n\u001b[0;32m---> <a href='vscode-notebook-cell:/home/amveiga/teoria_de_algoritmos_ii/parcialito_3/notebooks/ejercicio_5.ipynb#ch0000011?line=14'>15</a>\u001b[0m             reliability_x_score_sum \u001b[39m+\u001b[39m\u001b[39m=\u001b[39m reliability\u001b[39m.\u001b[39mget((user,product),\u001b[39m1\u001b[39m)\u001b[39m*\u001b[39mreviews_nx[user][product][\u001b[39m\"\u001b[39m\u001b[39mRating\u001b[39m\u001b[39m\"\u001b[39m]\n\u001b[1;32m     <a href='vscode-notebook-cell:/home/amveiga/teoria_de_algoritmos_ii/parcialito_3/notebooks/ejercicio_5.ipynb#ch0000011?line=15'>16</a>\u001b[0m         goodness[product] \u001b[39m=\u001b[39m reliability_x_score_sum\u001b[39m/\u001b[39mreviews_nx\u001b[39m.\u001b[39min_degree(product)\n\u001b[1;32m     <a href='vscode-notebook-cell:/home/amveiga/teoria_de_algoritmos_ii/parcialito_3/notebooks/ejercicio_5.ipynb#ch0000011?line=17'>18</a>\u001b[0m \u001b[39m# actualizar el reliability\u001b[39;00m\n",
      "File \u001b[0;32m~/anaconda3/lib/python3.9/site-packages/networkx/classes/graph.py:476\u001b[0m, in \u001b[0;36mGraph.__getitem__\u001b[0;34m(self, n)\u001b[0m\n\u001b[1;32m    452\u001b[0m \u001b[39mdef\u001b[39;00m \u001b[39m__getitem__\u001b[39m(\u001b[39mself\u001b[39m, n):\n\u001b[1;32m    453\u001b[0m     \u001b[39m\"\"\"Returns a dict of neighbors of node n.  Use: 'G[n]'.\u001b[39;00m\n\u001b[1;32m    454\u001b[0m \n\u001b[1;32m    455\u001b[0m \u001b[39m    Parameters\u001b[39;00m\n\u001b[0;32m   (...)\u001b[0m\n\u001b[1;32m    474\u001b[0m \u001b[39m    AtlasView({1: {}})\u001b[39;00m\n\u001b[1;32m    475\u001b[0m \u001b[39m    \"\"\"\u001b[39;00m\n\u001b[0;32m--> 476\u001b[0m     \u001b[39mreturn\u001b[39;00m \u001b[39mself\u001b[39;49m\u001b[39m.\u001b[39;49madj[n]\n",
      "\u001b[0;31mKeyboardInterrupt\u001b[0m: "
     ]
    }
   ],
   "source": [
    "for i in range(10):\n",
    "    # actualizar el fairness \n",
    "    for user in reviews_nx:\n",
    "        if reviews_nx.out_degree(user) > 1: # si no tiene salidas es un producto\n",
    "            reliability_sum = 0\n",
    "            for product in reviews_nx[user].keys():\n",
    "                reliability_sum += reliability.get((user,product),1)\n",
    "            fairness[user] = reliability_sum / reviews_nx.out_degree(user)\n",
    "\n",
    "    # actualizar el goodness\n",
    "    for product in reviews_nx:\n",
    "        if reviews_nx.out_degree(product) == 0: # si no tiene salidas es un producto\n",
    "            reliability_x_score_sum = 0\n",
    "            for user,_ in reviews_nx.in_edges(product):\n",
    "                reliability_x_score_sum += reliability.get((user,product),1)*reviews_nx[user][product][\"Rating\"]\n",
    "            goodness[product] = reliability_x_score_sum/reviews_nx.in_degree(product)\n",
    "\n",
    "    # actualizar el reliability\n",
    "    for user in reviews_nx:\n",
    "        if reviews_nx.out_degree(user) > 1: # si no tiene salidas es un producto\n",
    "            for product in reviews_nx[user].keys():\n",
    "                reliability[(user,product)] = reliability_score(y1,y2,fairness[user],reviews_nx[user][product][\"Rating\"],goodness[product])\n",
    "    print(\"Iteración: \", i)"
   ]
  },
  {
   "cell_type": "code",
   "execution_count": null,
   "metadata": {},
   "outputs": [
    {
     "ename": "",
     "evalue": "",
     "output_type": "error",
     "traceback": [
      "\u001b[1;31mEl Kernel se bloqueó al ejecutar código en la celda actual o en una celda anterior. Revise el código de las celdas para identificar una posible causa del error. Haga clic <a href='https://aka.ms/vscodeJupyterKernelCrash'>aquí</a> para obtener más información. Vea el [registro] de Jupyter (command:jupyter.viewOutput) para obtener más detalles."
     ]
    }
   ],
   "source": [
    "usuarios_maliciosos = {}\n",
    "usuarios_justos = {}\n",
    "for user in reviews_nx:\n",
    "    if reviews_nx.out_degree(user) > 1: # si no tiene salidas es un producto\n",
    "        if fairness[user] < 0.2 and reviews_nx.out_degree(user) > 5:\n",
    "            usuarios_maliciosos[user] = fairness[user]\n",
    "        elif fairness[user] > 0.9 and reviews_nx.out_degree(user) > 10:\n",
    "            usuarios_justos[user] = fairness[user]          "
   ]
  },
  {
   "cell_type": "markdown",
   "metadata": {},
   "source": []
  }
 ],
 "metadata": {
  "kernelspec": {
   "display_name": "Python 3.9.12 ('base')",
   "language": "python",
   "name": "python3"
  },
  "language_info": {
   "codemirror_mode": {
    "name": "ipython",
    "version": 3
   },
   "file_extension": ".py",
   "mimetype": "text/x-python",
   "name": "python",
   "nbconvert_exporter": "python",
   "pygments_lexer": "ipython3",
   "version": "3.9.12"
  },
  "orig_nbformat": 4,
  "vscode": {
   "interpreter": {
    "hash": "a1b517d4a62fdc2cf0e484d22342d09353ad71db632c0c4702f6ba8ab4a7ce17"
   }
  }
 },
 "nbformat": 4,
 "nbformat_minor": 2
}
