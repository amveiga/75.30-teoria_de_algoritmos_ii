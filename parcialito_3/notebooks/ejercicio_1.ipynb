{
 "cells": [
  {
   "cell_type": "markdown",
   "metadata": {},
   "source": [
    "1. Se quiere convocar a una elección a la que se presentan 4 candidatos (A, B, C y D). Hay 3 votantes del jurado que tienen sus siguientes rankings individuales:\n",
    "   \n",
    "    - Jurado 1: $B \\succ C \\succ D \\succ A$\n",
    "    - Jurado 2: $C \\succ D \\succ A \\succ B$\n",
    "    - Jurado 3: $D \\succ A \\succ B \\succ C$\n",
    "\n",
    "    a. ¿Quién ganaría por eliminación iterativa?\n",
    "    \n",
    "    b. ¿Quién ganaría por Borda rule?\n",
    "    \n",
    "    c. Suponé que estás a cargo de definir las reglas/formato de la votación, y sos un miembro corrupto que desea que si o si gane la alternativa A (te asegura favores si  logra ganar la elección). Definir (si existe) un sistema de votación en el cual A resulte ganador de la elección. En caso de no existir, explicar por qué. ¿Cuál propiedad deseable de los sistemas de votación no se está cumpliendo si, efectivamente, ganara A?\n",
    "\n",
    "**[1 Punto]**"
   ]
  },
  {
   "cell_type": "markdown",
   "metadata": {},
   "source": [
    "a. Por eliminaciones succesivas en orden A,B,C,D ganaría el candidato C:\n",
    "\n",
    "1. A vs. B -> gana A\n",
    "2. A vs. C -> gana C\n",
    "3. C vs. D -> gana C\n",
    "\n",
    "Por eliminaciones succesivas en orden D,C,B,A ganaría el candidato A:\n",
    "\n",
    "1. D vs. C -> gana C\n",
    "2. C vs. B -> gana B\n",
    "3. B vs. A -> gana A\n",
    "\n",
    "*Paradoja*: Todos los jurados prefieren a D antes que a A, sin embargo con este sistema de votación sale favorecido el candidato A.\n",
    "\n",
    "b. Por Borda rule ganaría el candidato D.  \n",
    "\n",
    "|              | A | B | C | D |\n",
    "|--------------|---|---|---|---|\n",
    "|Jurado 1      | 0 | 3 | 2 | 1 |\n",
    "|Jurado 2      | 1 | 0 | 3 | 2 |\n",
    "|Jurado 3      | 2 | 1 | 0 | 3 |\n",
    "|Puntos totales| 3 | 4 | 5 | 6 |\n",
    "\n",
    "c. Como mencione en el punto *a.* una alternativa para que gane A, suponiendo que sabemos el ranking de cada jurado, podría ser una votación por eliminaciones succesivas en orden D,C,B,A. Aunque todos prefieran a D antes que a A ganaría A, esto quiere decir que A es Pareto-Dominado por D. No se estaría cumpliendo la propiedad de ser Pareto-Eficiente, dado que aunque todos los agentes están de acuerdo en el orden realitvo de preferencias de dos alternativas ($D \\succ A$), el sistema de votación no elige en el mimso orden.\n"
   ]
  },
  {
   "cell_type": "markdown",
   "metadata": {},
   "source": []
  }
 ],
 "metadata": {
  "kernelspec": {
   "display_name": "Python 3.8.10 64-bit",
   "language": "python",
   "name": "python3"
  },
  "language_info": {
   "name": "python",
   "version": "3.8.10"
  },
  "orig_nbformat": 4,
  "vscode": {
   "interpreter": {
    "hash": "916dbcbb3f70747c44a77c7bcd40155683ae19c65e1c03b4aa3499c5328201f1"
   }
  }
 },
 "nbformat": 4,
 "nbformat_minor": 2
}
