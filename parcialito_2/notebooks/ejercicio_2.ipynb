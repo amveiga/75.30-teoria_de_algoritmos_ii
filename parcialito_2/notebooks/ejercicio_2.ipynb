{
 "cells": [
  {
   "cell_type": "markdown",
   "metadata": {},
   "source": [
    "2. \n",
    "    a. Calcular los motifs de hasta 5 nodos de la subred definida en el punto 1.c.\n",
    "    \n",
    "    b. Calcular el promedio y desvío estandar de los motifs de una red de baseline. Calcular el significant profile de la red, y hacer un gráfico.\n",
    "    \n",
    "    c. Intentar dar con una explicación del resultado obtenido en el punto anterior [+1 punto].\n",
    "\n",
    "**[4 puntos]** *(sin contar 2.c)*"
   ]
  },
  {
   "cell_type": "code",
   "execution_count": 1,
   "metadata": {},
   "outputs": [],
   "source": [
    "import networkx as nx\n",
    "import pandas as pd"
   ]
  },
  {
   "cell_type": "code",
   "execution_count": 2,
   "metadata": {},
   "outputs": [],
   "source": [
    "net = pd.read_csv('../data/subgraph.csv')"
   ]
  },
  {
   "cell_type": "code",
   "execution_count": 3,
   "metadata": {},
   "outputs": [],
   "source": [
    "G = nx.from_pandas_edgelist(net,'Origen','Destino')"
   ]
  },
  {
   "cell_type": "code",
   "execution_count": 4,
   "metadata": {},
   "outputs": [],
   "source": [
    "import sys\n",
    "sys.path.append('../social-networks-utils')\n",
    "from motifs.calculos import calcular_motifs, significance_profile, motif_grafo_eleatorios\n",
    "from metricas import distribucion_grados\n",
    "from modelos import configuration_model\n",
    "from motifs.graficos import graficar_significant_profile"
   ]
  },
  {
   "cell_type": "code",
   "execution_count": 5,
   "metadata": {},
   "outputs": [
    {
     "name": "stdout",
     "output_type": "stream",
     "text": [
      "[  6767   2160  35791  29980   1972  52722  21829   6045 105359 307703\n",
      "  82477 231338 154949 259346   2809  36856 353316  50223 219685   1730\n",
      "  31693  72409 224009 167290  14795 188349  14597  65421  11833]\n"
     ]
    }
   ],
   "source": [
    "MAX_NODOS_MOTIFS = 5\n",
    "motifs = calcular_motifs(G, MAX_NODOS_MOTIFS)\n",
    "print(motifs)"
   ]
  },
  {
   "cell_type": "code",
   "execution_count": 6,
   "metadata": {},
   "outputs": [
    {
     "name": "stdout",
     "output_type": "stream",
     "text": [
      "Iteracion 1\n",
      "Iteracion 2; anterior: 712.75 segs\n",
      "Iteracion 3; anterior: 745.42 segs\n",
      "Iteracion 4; anterior: 819.96 segs\n",
      "Iteracion 5; anterior: 700.59 segs\n",
      "Iteracion 6; anterior: 724.40 segs\n",
      "Iteracion 7; anterior: 686.31 segs\n",
      "Iteracion 8; anterior: 745.28 segs\n",
      "Iteracion 9; anterior: 743.83 segs\n",
      "Iteracion 10; anterior: 775.17 segs\n",
      "Iteracion 11; anterior: 700.48 segs\n",
      "Iteracion 12; anterior: 784.73 segs\n",
      "Iteracion 13; anterior: 761.16 segs\n",
      "Iteracion 14; anterior: 876.08 segs\n",
      "Iteracion 15; anterior: 779.40 segs\n",
      "Iteracion 16; anterior: 802.42 segs\n",
      "Iteracion 17; anterior: 825.54 segs\n",
      "Iteracion 18; anterior: 823.79 segs\n",
      "Iteracion 19; anterior: 811.55 segs\n",
      "Iteracion 20; anterior: 753.29 segs\n"
     ]
    }
   ],
   "source": [
    "dist = distribucion_grados(G)\n",
    "promedios, stds = motif_grafo_eleatorios(lambda: configuration_model(dist), MAX_NODOS_MOTIFS, iters=20)\n",
    "SP = significance_profile(motifs, promedios, stds)"
   ]
  },
  {
   "cell_type": "code",
   "execution_count": 7,
   "metadata": {},
   "outputs": [
    {
     "data": {
      "image/png": "[encoded data removed]",
      "text/plain": [
       "<Figure size 432x288 with 1 Axes>"
      ]
     },
     "metadata": {
      "needs_background": "light"
     },
     "output_type": "display_data"
    }
   ],
   "source": [
    "graficar_significant_profile(SP, 'World')"
   ]
  },
  {
   "cell_type": "markdown",
   "metadata": {},
   "source": [
    "Claramente hay varios subgrafos que se mantiene poco semejante a lo esperado. Hay varios subgrafos que estan sobrerepresentados, sobretodo el 8, 28 y 29. Son los subgrafos que estan muy conectados entre todos, lo cual tiene sentido si estamos hablando de una red de vuelos (donde sería deseable poder llegar desde un mismo nodo a varios países sin hacer combinaciones). "
   ]
  }
 ],
 "metadata": {
  "interpreter": {
   "hash": "a1b517d4a62fdc2cf0e484d22342d09353ad71db632c0c4702f6ba8ab4a7ce17"
  },
  "kernelspec": {
   "display_name": "Python 3.9.7 ('base')",
   "language": "python",
   "name": "python3"
  },
  "language_info": {
   "codemirror_mode": {
    "name": "ipython",
    "version": 3
   },
   "file_extension": ".py",
   "mimetype": "text/x-python",
   "name": "python",
   "nbconvert_exporter": "python",
   "pygments_lexer": "ipython3",
   "version": "3.9.12"
  },
  "orig_nbformat": 4
 },
 "nbformat": 4,
 "nbformat_minor": 2
}
