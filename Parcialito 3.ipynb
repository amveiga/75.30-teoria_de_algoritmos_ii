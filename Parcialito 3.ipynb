{
 "cells": [
  {
   "cell_type": "markdown",
   "metadata": {},
   "source": [
    "# Teoría de Algoritmos II (75.30)\n",
    "---\n",
    "**3.er Parcialito Domiciliario – 13/06/2022 - Fecha de Entrega: 15/07/2022**\n",
    "\n",
    "*Aclaraciones*: Cada ejercicio dice al final del mismo la cantidad de puntos que otorga por hacerse completamente bien (en total, 10). Se deben obtener al menos 5 puntos para aprobar, y se deben aprobar al menos 3 de los parcialitos para aprobar/regularizar la cursada. Para la fecha de entregar, enviar un mail a mbuchwald@fi.uba.ar con un pdf con la resolución, con nombre P3 - PADRON.pdf. Pueden incluir todo el material adicional que les parezca relevante (desde código hasta gráficos)."
   ]
  },
  {
   "cell_type": "markdown",
   "metadata": {},
   "source": [
    "1. Se quiere convocar a una elección a la que se presentan 4 candidatos (A, B, C y D). Hay 3 votantes del jurado que tienen sus siguientes rankings individuales:\n",
    "   \n",
    "    - Jurado 1: $B \\succ C \\succ D \\succ A$\n",
    "    - Jurado 2: $C \\succ D \\succ A \\succ B$\n",
    "    - Jurado 3: $D \\succ A \\succ B \\succ C$\n",
    "\n",
    "    a. ¿Quién ganaría por eliminación iterativa?\n",
    "    \n",
    "    b. ¿Quién ganaría por Borda rule?\n",
    "    \n",
    "    c. Suponé que estás a cargo de definir las reglas/formato de la votación, y sos un miembro corrupto que desea que si o si gane la alternativa A (te asegura favores si  logra ganar la elección). Definir (si existe) un sistema de votación en el cual A resulte ganador de la elección. En caso de no existir, explicar por qué. ¿Cuál propiedad deseable de los sistemas de votación no se está cumpliendo si, efectivamente, ganara A?\n",
    "\n",
    "**[1 Punto]**"
   ]
  },
  {
   "cell_type": "markdown",
   "metadata": {},
   "source": [
    "a. Por eliminaciones succesivas en orden A,B,C,D ganaría el candidato C:\n",
    "\n",
    "1. A vs. B -> gana A\n",
    "2. A vs. C -> gana C\n",
    "3. C vs. D -> gana C\n",
    "\n",
    "Por eliminaciones succesivas en orden D,C,B,A ganaría el candidato A:\n",
    "\n",
    "1. D vs. C -> gana C\n",
    "2. C vs. B -> gana B\n",
    "3. B vs. A -> gana A\n",
    "\n",
    "*Paradoja*: Todos los jurados prefieren a D antes que a A, sin embargo con este sistema de votación sale favorecido el candidato A.\n",
    "\n",
    "b. Por Borda rule ganaría el candidato D.  \n",
    "\n",
    "|              | A | B | C | D |\n",
    "|--------------|---|---|---|---|\n",
    "|Jurado 1      | 0 | 3 | 2 | 1 |\n",
    "|Jurado 2      | 1 | 0 | 3 | 2 |\n",
    "|Jurado 3      | 2 | 1 | 0 | 3 |\n",
    "|Puntos totales| 3 | 4 | 5 | 6 |\n",
    "\n",
    "c. Como mencione en el punto *a.* una alternativa para que gane A, suponiendo que sabemos el ranking de cada jurado, podría ser una votación por eliminaciones succesivas en orden D,C,B,A. Aunque todos prefieran a D antes que a A ganaría A, esto quiere decir que A es Pareto-Dominado por D. No se estaría cumpliendo la propiedad de ser Pareto-Eficiente, dado que aunque todos los agentes están de acuerdo en el orden realitvo de preferencias de dos alternativas ($D \\succ A$), el sistema de votación no elige en el mimso orden.\n"
   ]
  },
  {
   "cell_type": "markdown",
   "metadata": {},
   "source": [
    "---"
   ]
  },
  {
   "cell_type": "markdown",
   "metadata": {},
   "source": [
    "2. Considerando el modelo de cascadas de información visto en clase, supongamos que hay una nueva tecnología que los individuos pueden optar por aceptar o rechazar. Supongamos que cada uno que acepta la tecnología recibe una ganancia positiva o negativa (sin conocerla a priori). Estos valores son aleatorios para cada nodo, y si la tecnología es “Buena”, entonces el promedio será positivo, y si la tecnología es “Mala” el promedio será negativo (esta información es conocida por los individuos). Quienes rechacen la tecnología reciben ganancia 0. En este modelo, cuando a un individuo le toca elegir si acepta o rechaza la nueva tecnología, recibe la información de las ganancias de todos los que vinieron antes.\n",
    "\n",
    "    a. Supongamos que esta nueva tecnología es, en realidad, “Mala”. ¿Cómo afecta esta nueva información (qué ganancia tuvo cada uno de los que vinieron antes) a la potencial formación de una cascada para que persista la nueva tecnología? (No es necesario dar una demostración, simplemente argumentar) \n",
    "    \n",
    "    b. Supongamos que esta nueva tecnología es, en realidad, “Buena”. ¿Puede surgir una cascada de rechazo de esta nueva tecnología?\n",
    "\n",
    "**[2 Puntos]**"
   ]
  },
  {
   "cell_type": "markdown",
   "metadata": {},
   "source": [
    "a. En este modelo, hasta que haya alguno que sea el primero en aceptar esta nueva tecnología todos los que elijan antes tienen una probabilidad de 0.5 de que la nueva tecnología sea buena o mala, ya que al rechazar, la ganancia es 0. A partir de la elección del primero que acepte la tecnología, el que venga después va a tener el conocimiento de si la tecnología es buena o mala. En el caso que la tecnología sea mala, no le conviene mentir y decir elegir que es buena, ya que tendría ganancia negativa, es preferible tener ganancia 0 y no tomar la tecnología. A partir de ahí nadie le va a convenir aceptar la tecnología. Por tanto esta información haría que no persista la nueva tecnología.\n",
    "\n",
    "b. El planteo para el caso que la nueva tecnología sea buena es igual, cuando el primero que tomé la decisión de aceptar la tecnología, el resto va a tener conocimientos de si es buena o mala. Sin embargo puede suceder que nadie se quiera arriesgar a aceptar esta nueva tecnología ya que no se recibe ninguna penalización en caso de rechazarla. Por lo tanto, con este modelo hay posibilidad de una cascada de rechazo de la nueva tecnología.\n"
   ]
  },
  {
   "cell_type": "markdown",
   "metadata": {},
   "source": []
  }
 ],
 "metadata": {
  "language_info": {
   "name": "python"
  },
  "orig_nbformat": 4
 },
 "nbformat": 4,
 "nbformat_minor": 2
}
