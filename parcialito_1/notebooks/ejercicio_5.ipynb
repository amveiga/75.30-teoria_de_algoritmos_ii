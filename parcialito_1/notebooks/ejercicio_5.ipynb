{
 "cells": [
  {
   "cell_type": "markdown",
   "metadata": {},
   "source": [
    "5. .\n",
    "        \n",
    "        a. Obtener una simulación de un modelado de Erdös-Rényi que corresponda a los parámetros de esta red.\n",
    "        b. Obtener una simulación de un modelado de Preferential Attachment (ley de potencias) que corresponda a los parámetros de esta red.\n",
    "        c. Obtener una representación de anonymous walks tanto de la red original como para las dos simuladas en los puntos a y b. Determinar por distancia coseno cuál sería la simulación más afín.\n",
    "    \n",
    "    **[3 puntos]**"
   ]
  },
  {
   "cell_type": "code",
   "execution_count": 29,
   "metadata": {},
   "outputs": [],
   "source": [
    "import networkx as nx\n",
    "import pandas as pd\n",
    "import sys\n",
    "sys.path.append('../')\n",
    "from social_networks_utils.homofilia import contar_aristas\n",
    "from social_networks_utils.modelos import erdos_renyi\n",
    "from social_networks_utils.metricas import grado_promedio, clustering"
   ]
  },
  {
   "cell_type": "code",
   "execution_count": 30,
   "metadata": {},
   "outputs": [
    {
     "data": {
      "text/html": [
       "<div>\n",
       "<style scoped>\n",
       "    .dataframe tbody tr th:only-of-type {\n",
       "        vertical-align: middle;\n",
       "    }\n",
       "\n",
       "    .dataframe tbody tr th {\n",
       "        vertical-align: top;\n",
       "    }\n",
       "\n",
       "    .dataframe thead th {\n",
       "        text-align: right;\n",
       "    }\n",
       "</style>\n",
       "<table border=\"1\" class=\"dataframe\">\n",
       "  <thead>\n",
       "    <tr style=\"text-align: right;\">\n",
       "      <th></th>\n",
       "      <th>Origen</th>\n",
       "      <th>Destino</th>\n",
       "    </tr>\n",
       "  </thead>\n",
       "  <tbody>\n",
       "    <tr>\n",
       "      <th>0</th>\n",
       "      <td>Papua New Guinea</td>\n",
       "      <td>Australia</td>\n",
       "    </tr>\n",
       "    <tr>\n",
       "      <th>1</th>\n",
       "      <td>Papua New Guinea</td>\n",
       "      <td>Philippines</td>\n",
       "    </tr>\n",
       "    <tr>\n",
       "      <th>2</th>\n",
       "      <td>Papua New Guinea</td>\n",
       "      <td>Indonesia</td>\n",
       "    </tr>\n",
       "    <tr>\n",
       "      <th>3</th>\n",
       "      <td>Papua New Guinea</td>\n",
       "      <td>Solomon Islands</td>\n",
       "    </tr>\n",
       "    <tr>\n",
       "      <th>4</th>\n",
       "      <td>Papua New Guinea</td>\n",
       "      <td>Hong Kong</td>\n",
       "    </tr>\n",
       "  </tbody>\n",
       "</table>\n",
       "</div>"
      ],
      "text/plain": [
       "             Origen          Destino\n",
       "0  Papua New Guinea        Australia\n",
       "1  Papua New Guinea      Philippines\n",
       "2  Papua New Guinea        Indonesia\n",
       "3  Papua New Guinea  Solomon Islands\n",
       "4  Papua New Guinea        Hong Kong"
      ]
     },
     "execution_count": 30,
     "metadata": {},
     "output_type": "execute_result"
    }
   ],
   "source": [
    "net = pd.read_csv('../data/World.csv')\n",
    "net.head()"
   ]
  },
  {
   "cell_type": "code",
   "execution_count": 31,
   "metadata": {},
   "outputs": [],
   "source": [
    "G = nx.from_pandas_edgelist(net,'Origen','Destino')"
   ]
  },
  {
   "cell_type": "code",
   "execution_count": 32,
   "metadata": {},
   "outputs": [],
   "source": [
    "def graph_info_to_dict(G):\n",
    "    d = {}\n",
    "    d['Diametro'] = 5\n",
    "    d['Grado Promedio'] = grado_promedio(G)\n",
    "    d['Coeficiente de clustering'] = clustering(G)[1]\n",
    "    d['Cantidad de aristas'] = contar_aristas(G)\n",
    "    return d"
   ]
  },
  {
   "cell_type": "code",
   "execution_count": 33,
   "metadata": {},
   "outputs": [],
   "source": [
    "G_dict = graph_info_to_dict(G)"
   ]
  },
  {
   "cell_type": "markdown",
   "metadata": {},
   "source": [
    "### Modelado de Erdös-Rényi"
   ]
  },
  {
   "cell_type": "code",
   "execution_count": 34,
   "metadata": {},
   "outputs": [],
   "source": [
    "grado_promedio_ = grado_promedio(G)\n",
    "cant_aristas = G.number_of_edges()\n",
    "cant_nodos = G.number_of_nodes()"
   ]
  },
  {
   "cell_type": "code",
   "execution_count": 35,
   "metadata": {},
   "outputs": [],
   "source": [
    "er_graph = erdos_renyi(cant_nodos,grado_promedio_)"
   ]
  },
  {
   "cell_type": "code",
   "execution_count": 36,
   "metadata": {},
   "outputs": [],
   "source": [
    "def graph_to_csv(G,path):\n",
    "    d = {'origen': [], 'destino': []}\n",
    "    for edge in list(G.edges()):\n",
    "        d['origen'].append(edge[0])\n",
    "        d['destino'].append(edge[1])\n",
    "    pref_attach_df = pd.DataFrame(data=d)\n",
    "    pref_attach_df.to_csv(path,index=False)\n",
    "    "
   ]
  },
  {
   "cell_type": "code",
   "execution_count": 37,
   "metadata": {},
   "outputs": [],
   "source": [
    "graph_to_csv(er_graph,'../data/er_graph.csv')"
   ]
  },
  {
   "cell_type": "code",
   "execution_count": 38,
   "metadata": {},
   "outputs": [],
   "source": [
    "er_dict = graph_info_to_dict(er_graph)"
   ]
  },
  {
   "cell_type": "code",
   "execution_count": 39,
   "metadata": {},
   "outputs": [],
   "source": [
    "df = pd.DataFrame([G_dict, er_dict]).T\n",
    "columns = ['Red real','Erdös-Rényi']\n",
    "df.columns = columns"
   ]
  },
  {
   "cell_type": "code",
   "execution_count": 40,
   "metadata": {},
   "outputs": [
    {
     "data": {
      "text/html": [
       "<div>\n",
       "<style scoped>\n",
       "    .dataframe tbody tr th:only-of-type {\n",
       "        vertical-align: middle;\n",
       "    }\n",
       "\n",
       "    .dataframe tbody tr th {\n",
       "        vertical-align: top;\n",
       "    }\n",
       "\n",
       "    .dataframe thead th {\n",
       "        text-align: right;\n",
       "    }\n",
       "</style>\n",
       "<table border=\"1\" class=\"dataframe\">\n",
       "  <thead>\n",
       "    <tr style=\"text-align: right;\">\n",
       "      <th></th>\n",
       "      <th>Red real</th>\n",
       "      <th>Erdös-Rényi</th>\n",
       "    </tr>\n",
       "  </thead>\n",
       "  <tbody>\n",
       "    <tr>\n",
       "      <th>Diametro</th>\n",
       "      <td>5.000000</td>\n",
       "      <td>5.000000</td>\n",
       "    </tr>\n",
       "    <tr>\n",
       "      <th>Grado Promedio</th>\n",
       "      <td>24.908297</td>\n",
       "      <td>24.820961</td>\n",
       "    </tr>\n",
       "    <tr>\n",
       "      <th>Coeficiente de clustering</th>\n",
       "      <td>0.660157</td>\n",
       "      <td>0.111859</td>\n",
       "    </tr>\n",
       "    <tr>\n",
       "      <th>Cantidad de aristas</th>\n",
       "      <td>2852.000000</td>\n",
       "      <td>2842.000000</td>\n",
       "    </tr>\n",
       "  </tbody>\n",
       "</table>\n",
       "</div>"
      ],
      "text/plain": [
       "                              Red real  Erdös-Rényi\n",
       "Diametro                      5.000000     5.000000\n",
       "Grado Promedio               24.908297    24.820961\n",
       "Coeficiente de clustering     0.660157     0.111859\n",
       "Cantidad de aristas        2852.000000  2842.000000"
      ]
     },
     "execution_count": 40,
     "metadata": {},
     "output_type": "execute_result"
    }
   ],
   "source": [
    "df"
   ]
  },
  {
   "cell_type": "markdown",
   "metadata": {},
   "source": [
    "### Modelado de Preferential Attachment (ley de potencias)"
   ]
  },
  {
   "cell_type": "code",
   "execution_count": 41,
   "metadata": {},
   "outputs": [],
   "source": [
    "from social_networks_utils.metricas import alfa_preferential_attachment, distrubucion_ccdf, graficar_distribuciones\n",
    "from social_networks_utils.embeddings import ln\n",
    "from social_networks_utils.modelos import preferential_attachment"
   ]
  },
  {
   "cell_type": "code",
   "execution_count": 42,
   "metadata": {},
   "outputs": [],
   "source": [
    "def calculate_alpha(G: nx.Graph,x_m: int):\n",
    "    result = 0\n",
    "    for n in list(G.nodes()):\n",
    "        result += ln((G.degree(n)/x_m))\n",
    "    result = result ** (-1)\n",
    "    result = result * (1 + G.number_of_nodes())\n",
    "    return result + 1\n"
   ]
  },
  {
   "cell_type": "markdown",
   "metadata": {},
   "source": [
    "Lo ideal seria encontrar un alpha entre 2 y 3, ya que:\n",
    "\n",
    "* $α <= 2, E[X] = ∞$ \n",
    "* $α <= 3, V[X] = ∞$"
   ]
  },
  {
   "cell_type": "markdown",
   "metadata": {},
   "source": [
    "Con x<sub>m</sub> = 6 el alpha da menor a 2."
   ]
  },
  {
   "cell_type": "code",
   "execution_count": 43,
   "metadata": {},
   "outputs": [
    {
     "data": {
      "text/plain": [
       "1.9314931023124609"
      ]
     },
     "execution_count": 43,
     "metadata": {},
     "output_type": "execute_result"
    }
   ],
   "source": [
    "alfa_preferential_attachment(G,6)"
   ]
  },
  {
   "cell_type": "markdown",
   "metadata": {},
   "source": [
    "Con x<sub>m</sub> = 14 el alpha da mayor a 3."
   ]
  },
  {
   "cell_type": "code",
   "execution_count": 44,
   "metadata": {},
   "outputs": [
    {
     "data": {
      "text/plain": [
       "3.07739187606002"
      ]
     },
     "execution_count": 44,
     "metadata": {},
     "output_type": "execute_result"
    }
   ],
   "source": [
    "alfa_preferential_attachment(G,14)"
   ]
  },
  {
   "cell_type": "markdown",
   "metadata": {},
   "source": [
    "Voy a buscar un alpha entre x<sub>m</sub> = 7 y x<sub>m</sub> = 13 que quede mejor con las distribuciones CCDF... a ojimetro"
   ]
  },
  {
   "cell_type": "code",
   "execution_count": 45,
   "metadata": {},
   "outputs": [],
   "source": [
    "distribucion_ccdf_G = distrubucion_ccdf(G)"
   ]
  },
  {
   "cell_type": "code",
   "execution_count": 46,
   "metadata": {},
   "outputs": [
    {
     "name": "stdout",
     "output_type": "stream",
     "text": [
      "Xm = 7\n",
      "Alfa:  2.053726293697296\n"
     ]
    },
    {
     "data": {
      "image/png": "[encoded data removed]",
      "text/plain": [
       "<Figure size 432x288 with 1 Axes>"
      ]
     },
     "metadata": {
      "needs_background": "light"
     },
     "output_type": "display_data"
    },
    {
     "name": "stdout",
     "output_type": "stream",
     "text": [
      "Xm = 8\n",
      "Alfa:  2.180680191366131\n"
     ]
    },
    {
     "data": {
      "image/png": "[encoded data removed]",
      "text/plain": [
       "<Figure size 432x288 with 1 Axes>"
      ]
     },
     "metadata": {
      "needs_background": "light"
     },
     "output_type": "display_data"
    },
    {
     "name": "stdout",
     "output_type": "stream",
     "text": [
      "Xm = 9\n",
      "Alfa:  2.314819119085215\n"
     ]
    },
    {
     "data": {
      "image/png": "[encoded data removed]",
      "text/plain": [
       "<Figure size 432x288 with 1 Axes>"
      ]
     },
     "metadata": {
      "needs_background": "light"
     },
     "output_type": "display_data"
    },
    {
     "name": "stdout",
     "output_type": "stream",
     "text": [
      "Xm = 10\n",
      "Alfa:  2.449890843293105\n"
     ]
    },
    {
     "data": {
      "image/png": "[encoded data removed]",
      "text/plain": [
       "<Figure size 432x288 with 1 Axes>"
      ]
     },
     "metadata": {
      "needs_background": "light"
     },
     "output_type": "display_data"
    },
    {
     "name": "stdout",
     "output_type": "stream",
     "text": [
      "Xm = 11\n",
      "Alfa:  2.594192433181231\n"
     ]
    },
    {
     "data": {
      "image/png": "[encoded data removed]",
      "text/plain": [
       "<Figure size 432x288 with 1 Axes>"
      ]
     },
     "metadata": {
      "needs_background": "light"
     },
     "output_type": "display_data"
    },
    {
     "name": "stdout",
     "output_type": "stream",
     "text": [
      "Xm = 12\n",
      "Alfa:  2.7442199407427355\n"
     ]
    },
    {
     "data": {
      "image/png": "[encoded data removed]",
      "text/plain": [
       "<Figure size 432x288 with 1 Axes>"
      ]
     },
     "metadata": {
      "needs_background": "light"
     },
     "output_type": "display_data"
    },
    {
     "name": "stdout",
     "output_type": "stream",
     "text": [
      "Xm = 13\n",
      "Alfa:  2.9057154261138387\n"
     ]
    },
    {
     "data": {
      "image/png": "[encoded data removed]",
      "text/plain": [
       "<Figure size 432x288 with 1 Axes>"
      ]
     },
     "metadata": {
      "needs_background": "light"
     },
     "output_type": "display_data"
    }
   ],
   "source": [
    "for x_m in range(7,14):\n",
    "    print(\"Xm =\",x_m)\n",
    "    alpha = alfa_preferential_attachment(G,x_m)\n",
    "    graficar_distribuciones(distribucion_ccdf_G,alpha,x_m)"
   ]
  },
  {
   "cell_type": "markdown",
   "metadata": {},
   "source": [
    "El x<sub>m</sub> que me parece que mejor queda para la distribucion de grados es entre **x<sub>m</sub> = 7**"
   ]
  },
  {
   "cell_type": "code",
   "execution_count": 47,
   "metadata": {},
   "outputs": [],
   "source": [
    "alpha = alfa_preferential_attachment(G,6)\n",
    "pref_attach_graph = preferential_attachment(False,alpha,cant_nodos,grado_promedio_)"
   ]
  },
  {
   "cell_type": "code",
   "execution_count": 48,
   "metadata": {},
   "outputs": [],
   "source": [
    "graph_to_csv(pref_attach_graph,'../data/pref_attach_graph.csv')"
   ]
  },
  {
   "cell_type": "code",
   "execution_count": 49,
   "metadata": {},
   "outputs": [],
   "source": [
    "pref_attach_dict = graph_info_to_dict(pref_attach_graph)"
   ]
  },
  {
   "cell_type": "code",
   "execution_count": 50,
   "metadata": {},
   "outputs": [],
   "source": [
    "df.insert(2,\"Preferential Attachment\",list(pref_attach_dict.values()),False)"
   ]
  },
  {
   "cell_type": "code",
   "execution_count": 51,
   "metadata": {},
   "outputs": [
    {
     "data": {
      "text/html": [
       "<div>\n",
       "<style scoped>\n",
       "    .dataframe tbody tr th:only-of-type {\n",
       "        vertical-align: middle;\n",
       "    }\n",
       "\n",
       "    .dataframe tbody tr th {\n",
       "        vertical-align: top;\n",
       "    }\n",
       "\n",
       "    .dataframe thead th {\n",
       "        text-align: right;\n",
       "    }\n",
       "</style>\n",
       "<table border=\"1\" class=\"dataframe\">\n",
       "  <thead>\n",
       "    <tr style=\"text-align: right;\">\n",
       "      <th></th>\n",
       "      <th>Red real</th>\n",
       "      <th>Erdös-Rényi</th>\n",
       "      <th>Preferential Attachment</th>\n",
       "    </tr>\n",
       "  </thead>\n",
       "  <tbody>\n",
       "    <tr>\n",
       "      <th>Diametro</th>\n",
       "      <td>5.000000</td>\n",
       "      <td>5.000000</td>\n",
       "      <td>5.000000</td>\n",
       "    </tr>\n",
       "    <tr>\n",
       "      <th>Grado Promedio</th>\n",
       "      <td>24.908297</td>\n",
       "      <td>24.820961</td>\n",
       "      <td>43.144105</td>\n",
       "    </tr>\n",
       "    <tr>\n",
       "      <th>Coeficiente de clustering</th>\n",
       "      <td>0.660157</td>\n",
       "      <td>0.111859</td>\n",
       "      <td>0.186079</td>\n",
       "    </tr>\n",
       "    <tr>\n",
       "      <th>Cantidad de aristas</th>\n",
       "      <td>2852.000000</td>\n",
       "      <td>2842.000000</td>\n",
       "      <td>4940.000000</td>\n",
       "    </tr>\n",
       "  </tbody>\n",
       "</table>\n",
       "</div>"
      ],
      "text/plain": [
       "                              Red real  Erdös-Rényi  Preferential Attachment\n",
       "Diametro                      5.000000     5.000000                 5.000000\n",
       "Grado Promedio               24.908297    24.820961                43.144105\n",
       "Coeficiente de clustering     0.660157     0.111859                 0.186079\n",
       "Cantidad de aristas        2852.000000  2842.000000              4940.000000"
      ]
     },
     "execution_count": 51,
     "metadata": {},
     "output_type": "execute_result"
    }
   ],
   "source": [
    "df"
   ]
  },
  {
   "cell_type": "markdown",
   "metadata": {},
   "source": [
    "### Comparacion entre grafos"
   ]
  },
  {
   "cell_type": "markdown",
   "metadata": {},
   "source": [
    "<table>\n",
    "  <tr>\n",
    "    <td>Red Original</td>\n",
    "     <td>Erdös-Rényi</td>\n",
    "     <td>Preferential Attachment</td>\n",
    "  </tr>\n",
    "  <tr>\n",
    "    <td><img src=\"../media/original_net.png\" width=500></td>\n",
    "    <td><img src=\"../media/erdos-renyi.png\" width=500></td>\n",
    "    <td><img src=\"../media/preferential_attachment.png\" width=500></td>\n",
    "  </tr>\n",
    " </table>"
   ]
  },
  {
   "cell_type": "markdown",
   "metadata": {},
   "source": [
    "### Representación de anonymous walks"
   ]
  },
  {
   "cell_type": "code",
   "execution_count": 52,
   "metadata": {},
   "outputs": [],
   "source": [
    "from social_networks_utils.embeddings import anoymous_walks\n",
    "from social_networks_utils.metricas import distancia_coseno"
   ]
  },
  {
   "cell_type": "code",
   "execution_count": 53,
   "metadata": {},
   "outputs": [],
   "source": [
    "caminos_G, emb_G = anoymous_walks(G,7)\n",
    "caminos_er, emb_er = anoymous_walks(er_graph,7)\n",
    "caminos_pa, emb_pa = anoymous_walks(pref_attach_graph,7)"
   ]
  },
  {
   "cell_type": "code",
   "execution_count": 54,
   "metadata": {},
   "outputs": [
    {
     "data": {
      "text/plain": [
       "0.00044853931648569656"
      ]
     },
     "execution_count": 54,
     "metadata": {},
     "output_type": "execute_result"
    }
   ],
   "source": [
    "distancia_coseno(emb_G,emb_er)"
   ]
  },
  {
   "cell_type": "code",
   "execution_count": 55,
   "metadata": {},
   "outputs": [
    {
     "data": {
      "text/plain": [
       "0.0015958170822956141"
      ]
     },
     "execution_count": 55,
     "metadata": {},
     "output_type": "execute_result"
    }
   ],
   "source": [
    "distancia_coseno(emb_G,emb_pa)    "
   ]
  },
  {
   "cell_type": "code",
   "execution_count": 56,
   "metadata": {},
   "outputs": [
    {
     "data": {
      "text/html": [
       "<div>\n",
       "<style scoped>\n",
       "    .dataframe tbody tr th:only-of-type {\n",
       "        vertical-align: middle;\n",
       "    }\n",
       "\n",
       "    .dataframe tbody tr th {\n",
       "        vertical-align: top;\n",
       "    }\n",
       "\n",
       "    .dataframe thead th {\n",
       "        text-align: right;\n",
       "    }\n",
       "</style>\n",
       "<table border=\"1\" class=\"dataframe\">\n",
       "  <thead>\n",
       "    <tr style=\"text-align: right;\">\n",
       "      <th></th>\n",
       "      <th>Red real</th>\n",
       "      <th>Erdös-Rényi</th>\n",
       "      <th>Preferential Attachment</th>\n",
       "    </tr>\n",
       "  </thead>\n",
       "  <tbody>\n",
       "    <tr>\n",
       "      <th>Diametro</th>\n",
       "      <td>5.000000</td>\n",
       "      <td>5.000000</td>\n",
       "      <td>5.000000</td>\n",
       "    </tr>\n",
       "    <tr>\n",
       "      <th>Grado Promedio</th>\n",
       "      <td>24.908297</td>\n",
       "      <td>24.820961</td>\n",
       "      <td>43.144105</td>\n",
       "    </tr>\n",
       "    <tr>\n",
       "      <th>Coeficiente de clustering</th>\n",
       "      <td>0.660157</td>\n",
       "      <td>0.111859</td>\n",
       "      <td>0.186079</td>\n",
       "    </tr>\n",
       "    <tr>\n",
       "      <th>Cantidad de aristas</th>\n",
       "      <td>2852.000000</td>\n",
       "      <td>2842.000000</td>\n",
       "      <td>4940.000000</td>\n",
       "    </tr>\n",
       "  </tbody>\n",
       "</table>\n",
       "</div>"
      ],
      "text/plain": [
       "                              Red real  Erdös-Rényi  Preferential Attachment\n",
       "Diametro                      5.000000     5.000000                 5.000000\n",
       "Grado Promedio               24.908297    24.820961                43.144105\n",
       "Coeficiente de clustering     0.660157     0.111859                 0.186079\n",
       "Cantidad de aristas        2852.000000  2842.000000              4940.000000"
      ]
     },
     "execution_count": 56,
     "metadata": {},
     "output_type": "execute_result"
    }
   ],
   "source": [
    "df"
   ]
  },
  {
   "cell_type": "markdown",
   "metadata": {},
   "source": [
    "El modelo mas a fin para la red original segun la distancia coseno es la de Erdös-Rényi. Tiene sentido al comparar algunos datos de los grafos."
   ]
  }
 ],
 "metadata": {
  "interpreter": {
   "hash": "a1b517d4a62fdc2cf0e484d22342d09353ad71db632c0c4702f6ba8ab4a7ce17"
  },
  "kernelspec": {
   "display_name": "Python 3.9.7 ('base')",
   "language": "python",
   "name": "python3"
  },
  "language_info": {
   "codemirror_mode": {
    "name": "ipython",
    "version": 3
   },
   "file_extension": ".py",
   "mimetype": "text/x-python",
   "name": "python",
   "nbconvert_exporter": "python",
   "pygments_lexer": "ipython3",
   "version": "3.9.12"
  },
  "orig_nbformat": 4
 },
 "nbformat": 4,
 "nbformat_minor": 2
}
