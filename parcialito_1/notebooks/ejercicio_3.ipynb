{
 "cells": [
  {
   "cell_type": "markdown",
   "metadata": {},
   "source": [
    "3. Determinar los puentes (globales o locales) en dicha red.\n",
    "   \n",
    "   **[1 punto]**"
   ]
  },
  {
   "cell_type": "code",
   "execution_count": 7,
   "metadata": {
    "pycharm": {
     "name": "#%%\n"
    }
   },
   "outputs": [],
   "source": [
    "import networkx as nx\n",
    "import pandas as pd"
   ]
  },
  {
   "cell_type": "code",
   "execution_count": 8,
   "metadata": {
    "pycharm": {
     "name": "#%%\n"
    }
   },
   "outputs": [],
   "source": [
    "net = pd.read_csv('../data/World.csv')"
   ]
  },
  {
   "cell_type": "code",
   "execution_count": 9,
   "metadata": {
    "collapsed": false,
    "pycharm": {
     "name": "#%%\n"
    }
   },
   "outputs": [
    {
     "data": {
      "text/html": [
       "<div>\n",
       "<style scoped>\n",
       "    .dataframe tbody tr th:only-of-type {\n",
       "        vertical-align: middle;\n",
       "    }\n",
       "\n",
       "    .dataframe tbody tr th {\n",
       "        vertical-align: top;\n",
       "    }\n",
       "\n",
       "    .dataframe thead th {\n",
       "        text-align: right;\n",
       "    }\n",
       "</style>\n",
       "<table border=\"1\" class=\"dataframe\">\n",
       "  <thead>\n",
       "    <tr style=\"text-align: right;\">\n",
       "      <th></th>\n",
       "      <th>Origen</th>\n",
       "      <th>Destino</th>\n",
       "    </tr>\n",
       "  </thead>\n",
       "  <tbody>\n",
       "    <tr>\n",
       "      <th>0</th>\n",
       "      <td>Papua New Guinea</td>\n",
       "      <td>Australia</td>\n",
       "    </tr>\n",
       "    <tr>\n",
       "      <th>1</th>\n",
       "      <td>Papua New Guinea</td>\n",
       "      <td>Philippines</td>\n",
       "    </tr>\n",
       "    <tr>\n",
       "      <th>2</th>\n",
       "      <td>Papua New Guinea</td>\n",
       "      <td>Indonesia</td>\n",
       "    </tr>\n",
       "    <tr>\n",
       "      <th>3</th>\n",
       "      <td>Papua New Guinea</td>\n",
       "      <td>Solomon Islands</td>\n",
       "    </tr>\n",
       "    <tr>\n",
       "      <th>4</th>\n",
       "      <td>Papua New Guinea</td>\n",
       "      <td>Hong Kong</td>\n",
       "    </tr>\n",
       "  </tbody>\n",
       "</table>\n",
       "</div>"
      ],
      "text/plain": [
       "             Origen          Destino\n",
       "0  Papua New Guinea        Australia\n",
       "1  Papua New Guinea      Philippines\n",
       "2  Papua New Guinea        Indonesia\n",
       "3  Papua New Guinea  Solomon Islands\n",
       "4  Papua New Guinea        Hong Kong"
      ]
     },
     "execution_count": 9,
     "metadata": {},
     "output_type": "execute_result"
    }
   ],
   "source": [
    "net.head()"
   ]
  },
  {
   "cell_type": "code",
   "execution_count": 10,
   "metadata": {
    "collapsed": false,
    "pycharm": {
     "name": "#%%\n"
    }
   },
   "outputs": [],
   "source": [
    "G = nx.from_pandas_edgelist(net,'Origen','Destino')"
   ]
  },
  {
   "cell_type": "markdown",
   "metadata": {},
   "source": [
    "# Puentes Locales"
   ]
  },
  {
   "cell_type": "code",
   "execution_count": 11,
   "metadata": {},
   "outputs": [
    {
     "name": "stdout",
     "output_type": "stream",
     "text": [
      "Si desconecto Papua New Guinea de Micronesia\n",
      "Quedan desconectado/s:\n",
      "Guam ~ Marshall Islands ~ Palau ~ Micronesia\n",
      "\n",
      "Si desconecto Fiji de Tuvalu\n",
      "Quedan desconectado/s:\n",
      "Tuvalu\n",
      "\n",
      "Si desconecto Micronesia de Marshall Islands\n",
      "Quedan desconectado/s:\n",
      "Kiribati ~ Nauru ~ United States ~ Marshall Islands\n",
      "\n",
      "Si desconecto United States de American Samoa\n",
      "Quedan desconectado/s:\n",
      "American Samoa\n",
      "\n",
      "Si desconecto United Kingdom de Saint Helena\n",
      "Quedan desconectado/s:\n",
      "Saint Helena\n",
      "\n",
      "Si desconecto Canada de Saint Pierre and Miquelon\n",
      "Quedan desconectado/s:\n",
      "Saint Pierre and Miquelon\n",
      "\n",
      "Si desconecto Antigua and Barbuda de Montserrat\n",
      "Quedan desconectado/s:\n",
      "Montserrat\n",
      "\n",
      "Si desconecto New Zealand de Niue\n",
      "Quedan desconectado/s:\n",
      "Niue\n",
      "\n",
      "Si desconecto South Africa de Lesotho\n",
      "Quedan desconectado/s:\n",
      "Lesotho\n",
      "\n",
      "Si desconecto South Africa de Swaziland\n",
      "Quedan desconectado/s:\n",
      "Swaziland\n",
      "\n",
      "Si desconecto Burma de Myanmar\n",
      "Quedan desconectado/s:\n",
      "Myanmar\n",
      "\n"
     ]
    }
   ],
   "source": [
    "for local_bridge in list(nx.local_bridges(G)):\n",
    "    print(\"Si desconecto\",local_bridge[0],'de',local_bridge[1])\n",
    "    print('Quedan desconectado/s:')\n",
    "    neighbors_list = list(G.neighbors(local_bridge[1]))\n",
    "    if len(neighbors_list) > 1:      \n",
    "        for i in neighbors_list:\n",
    "            if i is not local_bridge[0]:\n",
    "                print(i,end=' ~ ')\n",
    "    \n",
    "    print(local_bridge[1])\n",
    "    print()"
   ]
  },
  {
   "cell_type": "markdown",
   "metadata": {},
   "source": [
    "Salvo la conexion Papua New Guinea-Micronesia y Micronesia-Marshall Islands, el resto de puentes locales son en realidad nodos que solo se puede acceder a traves de 1 pais"
   ]
  },
  {
   "cell_type": "markdown",
   "metadata": {},
   "source": [
    "# Puentes Globales"
   ]
  },
  {
   "cell_type": "code",
   "execution_count": 12,
   "metadata": {},
   "outputs": [
    {
     "name": "stdout",
     "output_type": "stream",
     "text": [
      "Si desconecto Fiji de Tuvalu\n",
      "Quedan desconectado/s:\n",
      "Tuvalu\n",
      "\n",
      "Si desconecto United States de American Samoa\n",
      "Quedan desconectado/s:\n",
      "American Samoa\n",
      "\n",
      "Si desconecto United Kingdom de Saint Helena\n",
      "Quedan desconectado/s:\n",
      "Saint Helena\n",
      "\n",
      "Si desconecto Canada de Saint Pierre and Miquelon\n",
      "Quedan desconectado/s:\n",
      "Saint Pierre and Miquelon\n",
      "\n",
      "Si desconecto Antigua and Barbuda de Montserrat\n",
      "Quedan desconectado/s:\n",
      "Montserrat\n",
      "\n",
      "Si desconecto New Zealand de Niue\n",
      "Quedan desconectado/s:\n",
      "Niue\n",
      "\n",
      "Si desconecto South Africa de Lesotho\n",
      "Quedan desconectado/s:\n",
      "Lesotho\n",
      "\n",
      "Si desconecto South Africa de Swaziland\n",
      "Quedan desconectado/s:\n",
      "Swaziland\n",
      "\n",
      "Si desconecto Burma de Myanmar\n",
      "Quedan desconectado/s:\n",
      "Myanmar\n",
      "\n"
     ]
    }
   ],
   "source": [
    "for global_bridges in list(nx.bridges(G)):\n",
    "    print(\"Si desconecto\",global_bridges[0],'de',global_bridges[1])\n",
    "    print('Quedan desconectado/s:')\n",
    "    neighbors_list = list(G.neighbors(global_bridges[1]))\n",
    "    if len(neighbors_list) > 1:      \n",
    "        for i in neighbors_list:\n",
    "            if i is not global_bridges[0]:\n",
    "                print(i,end=' ~ ')\n",
    "    \n",
    "    print(global_bridges[1])\n",
    "    print()"
   ]
  },
  {
   "cell_type": "markdown",
   "metadata": {},
   "source": [
    "Absolutamente todos los puentes globales, son con nodos individuales que solo se pueden acceder a ellos a traves de 1 pais."
   ]
  }
 ],
 "metadata": {
  "interpreter": {
   "hash": "efbd172aefd937e925fba75b18792c9266d2b558d559aff61dad8c71c7e350d1"
  },
  "kernelspec": {
   "display_name": "Python 3.10.3 ('untitled')",
   "language": "python",
   "name": "python3"
  },
  "language_info": {
   "codemirror_mode": {
    "name": "ipython",
    "version": 3
   },
   "file_extension": ".py",
   "mimetype": "text/x-python",
   "name": "python",
   "nbconvert_exporter": "python",
   "pygments_lexer": "ipython3",
   "version": "3.9.7"
  },
  "orig_nbformat": 4
 },
 "nbformat": 4,
 "nbformat_minor": 2
}
