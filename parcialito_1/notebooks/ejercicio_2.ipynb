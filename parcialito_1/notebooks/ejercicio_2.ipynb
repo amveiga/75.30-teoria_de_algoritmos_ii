{
 "cells": [
  {
   "cell_type": "markdown",
   "metadata": {},
   "source": [
    "2. Indicar si existe algún tipo de Homofilia y qué tipo de homofilia es. Si no hay homofilia por ningún criterio, explicar. Justificar detalladamente.\n",
    "    \n",
    "    **[3 puntos]**"
   ]
  },
  {
   "cell_type": "code",
   "execution_count": 46,
   "metadata": {},
   "outputs": [],
   "source": [
    "import networkx as nx\n",
    "import pandas as pd\n",
    "import sys\n",
    "sys.path.append('../')\n",
    "from social_networks_utils.homofilia import proporcion_cruzan_campo"
   ]
  },
  {
   "cell_type": "code",
   "execution_count": 47,
   "metadata": {},
   "outputs": [
    {
     "data": {
      "text/html": [
       "<div>\n",
       "<style scoped>\n",
       "    .dataframe tbody tr th:only-of-type {\n",
       "        vertical-align: middle;\n",
       "    }\n",
       "\n",
       "    .dataframe tbody tr th {\n",
       "        vertical-align: top;\n",
       "    }\n",
       "\n",
       "    .dataframe thead th {\n",
       "        text-align: right;\n",
       "    }\n",
       "</style>\n",
       "<table border=\"1\" class=\"dataframe\">\n",
       "  <thead>\n",
       "    <tr style=\"text-align: right;\">\n",
       "      <th></th>\n",
       "      <th>Origen</th>\n",
       "      <th>Destino</th>\n",
       "    </tr>\n",
       "  </thead>\n",
       "  <tbody>\n",
       "    <tr>\n",
       "      <th>0</th>\n",
       "      <td>Papua New Guinea</td>\n",
       "      <td>Australia</td>\n",
       "    </tr>\n",
       "    <tr>\n",
       "      <th>1</th>\n",
       "      <td>Papua New Guinea</td>\n",
       "      <td>Philippines</td>\n",
       "    </tr>\n",
       "    <tr>\n",
       "      <th>2</th>\n",
       "      <td>Papua New Guinea</td>\n",
       "      <td>Indonesia</td>\n",
       "    </tr>\n",
       "    <tr>\n",
       "      <th>3</th>\n",
       "      <td>Papua New Guinea</td>\n",
       "      <td>Solomon Islands</td>\n",
       "    </tr>\n",
       "    <tr>\n",
       "      <th>4</th>\n",
       "      <td>Papua New Guinea</td>\n",
       "      <td>Hong Kong</td>\n",
       "    </tr>\n",
       "  </tbody>\n",
       "</table>\n",
       "</div>"
      ],
      "text/plain": [
       "             Origen          Destino\n",
       "0  Papua New Guinea        Australia\n",
       "1  Papua New Guinea      Philippines\n",
       "2  Papua New Guinea        Indonesia\n",
       "3  Papua New Guinea  Solomon Islands\n",
       "4  Papua New Guinea        Hong Kong"
      ]
     },
     "execution_count": 47,
     "metadata": {},
     "output_type": "execute_result"
    }
   ],
   "source": [
    "net = pd.read_csv('../data/World.csv')\n",
    "net.head()"
   ]
  },
  {
   "cell_type": "code",
   "execution_count": 48,
   "metadata": {},
   "outputs": [],
   "source": [
    "G = nx.from_pandas_edgelist(net,'Origen','Destino')"
   ]
  },
  {
   "cell_type": "markdown",
   "metadata": {},
   "source": [
    "Saque la info de paises y continentes de https://gist.github.com/canfixit/1662664"
   ]
  },
  {
   "cell_type": "code",
   "execution_count": 49,
   "metadata": {},
   "outputs": [],
   "source": [
    "import data.countries_data"
   ]
  },
  {
   "cell_type": "code",
   "execution_count": 50,
   "metadata": {},
   "outputs": [],
   "source": [
    "country_to_continent_d = {}\n",
    "for country in countries_data.COUNTRIES:\n",
    "    country_to_continent_d[country['name']] = country['continent']"
   ]
  },
  {
   "cell_type": "code",
   "execution_count": 51,
   "metadata": {},
   "outputs": [],
   "source": [
    "no_continent_countries = set()\n",
    "for country in list(G.nodes):\n",
    "    country_to_continent_d[country] = country_to_continent_d.get(country,'None')\n",
    "    if country_to_continent_d[country] == 'None':\n",
    "        no_continent_countries.add(country)"
   ]
  },
  {
   "cell_type": "code",
   "execution_count": 52,
   "metadata": {},
   "outputs": [
    {
     "data": {
      "text/plain": [
       "set()"
      ]
     },
     "execution_count": 52,
     "metadata": {},
     "output_type": "execute_result"
    }
   ],
   "source": [
    "no_continent_countries"
   ]
  },
  {
   "cell_type": "markdown",
   "metadata": {},
   "source": [
    "Después de haber completado COUNTRIES, tenemos todas las locaciones asignadas a su respectivo continente."
   ]
  },
  {
   "cell_type": "code",
   "execution_count": 53,
   "metadata": {},
   "outputs": [],
   "source": [
    "prob = {\n",
    "   'Oceania': 0,\n",
    "    'Asia': 0,\n",
    "    'North America': 0,\n",
    "    'Europe': 0,\n",
    "    'South America': 0,\n",
    "    'Africa': 0\n",
    "}\n",
    "\n",
    "for country in list(G.nodes):\n",
    "    if country_to_continent_d[country] == 'Oceania':\n",
    "        prob['Oceania'] += 1\n",
    "    elif country_to_continent_d[country] == 'Asia':\n",
    "        prob['Asia'] += 1\n",
    "    elif country_to_continent_d[country] == 'North America':\n",
    "        prob['North America'] += 1\n",
    "    elif country_to_continent_d[country] == 'Europe':\n",
    "        prob['Europe'] += 1\n",
    "    elif country_to_continent_d[country] == 'South America':\n",
    "        prob['South America'] += 1\n",
    "    elif country_to_continent_d[country] == 'Africa':\n",
    "        prob['Africa'] += 1\n",
    "\n",
    "prob.update((x,y/len(G)) for x,y in prob.items())"
   ]
  },
  {
   "cell_type": "markdown",
   "metadata": {},
   "source": [
    "Me aseguro que la suma de todas las probabilidades sea igual a 1"
   ]
  },
  {
   "cell_type": "code",
   "execution_count": 54,
   "metadata": {},
   "outputs": [
    {
     "data": {
      "text/plain": [
       "1.0"
      ]
     },
     "execution_count": 54,
     "metadata": {},
     "output_type": "execute_result"
    }
   ],
   "source": [
    "sum(prob.values())"
   ]
  },
  {
   "cell_type": "code",
   "execution_count": 55,
   "metadata": {},
   "outputs": [],
   "source": [
    "prob_totales = {\n",
    "    'Oceania': \n",
    "    {\n",
    "        'Interbloque': prob['Oceania']**2,\n",
    "        'Cruzada': prob['Oceania']*(1-prob['Oceania'])\n",
    "    },\n",
    "    'Asia': \n",
    "    {\n",
    "        'Interbloque': prob['Asia']**2,\n",
    "        'Cruzada': prob['Asia']*(1-prob['Asia'])\n",
    "    },\n",
    "    'North America': \n",
    "    {\n",
    "        'Interbloque': prob['North America']**2,\n",
    "        'Cruzada': prob['North America']*(1-prob['North America'])\n",
    "    },\n",
    "    'Europe': \n",
    "    {\n",
    "        'Interbloque': prob['Europe']**2,\n",
    "        'Cruzada': prob['Europe']*(1-prob['Europe'])\n",
    "    },\n",
    "    'South America': \n",
    "    {\n",
    "        'Interbloque': prob['South America']**2,\n",
    "        'Cruzada': prob['South America']*(1-prob['South America'])\n",
    "    },\n",
    "    'Africa': \n",
    "    {\n",
    "        'Interbloque': prob['Africa']**2,\n",
    "        'Cruzada': prob['Africa']*(1-prob['Africa'])\n",
    "    },\n",
    "}"
   ]
  },
  {
   "cell_type": "code",
   "execution_count": 56,
   "metadata": {},
   "outputs": [],
   "source": [
    "def mapper_country_to_continent(country_name):\n",
    "    return country_to_continent_d[country_name]"
   ]
  },
  {
   "cell_type": "code",
   "execution_count": 57,
   "metadata": {},
   "outputs": [],
   "source": [
    "prop_teo_cruzar_campo = 0\n",
    "for i in prob_totales:\n",
    "    prop_teo_cruzar_campo += prob_totales[i]['Cruzada'] "
   ]
  },
  {
   "cell_type": "code",
   "execution_count": 58,
   "metadata": {},
   "outputs": [],
   "source": [
    "prop_real_cruzar_campo = proporcion_cruzan_campo(G,mapper_country_to_continent)"
   ]
  },
  {
   "cell_type": "code",
   "execution_count": 59,
   "metadata": {},
   "outputs": [],
   "source": [
    "porcentaje_sin_homofilia = (prop_real_cruzar_campo/prop_teo_cruzar_campo)*100"
   ]
  },
  {
   "cell_type": "code",
   "execution_count": 60,
   "metadata": {},
   "outputs": [
    {
     "name": "stdout",
     "output_type": "stream",
     "text": [
      "Tenemos un 54.98773660685799% sin homofilia\n"
     ]
    }
   ],
   "source": [
    "print ('Tenemos un',porcentaje_sin_homofilia,end='% ')\n",
    "print ('sin homofilia')"
   ]
  },
  {
   "cell_type": "markdown",
   "metadata": {},
   "source": [
    "Podemos concluir que hay homofilia por continente!"
   ]
  },
  {
   "cell_type": "markdown",
   "metadata": {},
   "source": [
    "![Homofilia](../media/homofilia.png)"
   ]
  },
  {
   "cell_type": "markdown",
   "metadata": {},
   "source": [
    "Corriendo modularity en gephi podemos separar los paises por comunidades, y claramente se nota que cada color corresponde a un continente, salvo algunas excepciones interesantes:\n",
    "* España (único país europeo hipanohablante) esta dentro de la comunidad de países de América (Azul)\n",
    "* Francia (gran cantidad de afroeuropeos) esta dentro de la comunidad de países Africanos (Verde)"
   ]
  }
 ],
 "metadata": {
  "interpreter": {
   "hash": "efbd172aefd937e925fba75b18792c9266d2b558d559aff61dad8c71c7e350d1"
  },
  "kernelspec": {
   "display_name": "Python 3.10.3 ('untitled')",
   "language": "python",
   "name": "python3"
  },
  "language_info": {
   "codemirror_mode": {
    "name": "ipython",
    "version": 3
   },
   "file_extension": ".py",
   "mimetype": "text/x-python",
   "name": "python",
   "nbconvert_exporter": "python",
   "pygments_lexer": "ipython3",
   "version": "3.9.7"
  },
  "orig_nbformat": 4
 },
 "nbformat": 4,
 "nbformat_minor": 2
}
